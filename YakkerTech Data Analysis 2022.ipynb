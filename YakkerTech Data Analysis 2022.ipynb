{
 "cells": [
  {
   "cell_type": "code",
   "execution_count": 1,
   "id": "a7eb1d84",
   "metadata": {},
   "outputs": [],
   "source": [
    "import pandas as pd\n",
    "import numpy as np\n",
    "import matplotlib.pyplot as plt"
   ]
  },
  {
   "cell_type": "code",
   "execution_count": 2,
   "id": "1f178a01",
   "metadata": {},
   "outputs": [],
   "source": [
    "game040522 = pd.read_csv(\"YakkertechData/04_05_2022 San Diego@UC San Diego.csv\")\n",
    "game040822 = pd.read_csv(\"YakkertechData/04_08_2022 6_06_03 PM-UC Irvine@UC San Diego.csv\")\n",
    "game041922 = pd.read_csv(\"YakkertechData/04_19_2022 5_42_43 PM-San Diego State@UC San Diego.csv\")\n",
    "game042622 = pd.read_csv(\"YakkertechData/04_26_2022 12_41_15 PM-UC San Diego@UC San Diego.csv\")\n",
    "game042922 = pd.read_csv(\"YakkertechData/04_29_2022 6_13_28 PM-UC Riverside@UC San Diego Friday.csv\")\n",
    "game043022 = pd.read_csv(\"YakkertechData/04_30_2022 1_51_31 PM-UC Riverside@UC San Diego Saturday.csv\")\n",
    "game050122 = pd.read_csv(\"YakkertechData/05_01_2022 12_46_25 PM-UC Riverside@UC San Diego Sunday.csv\")\n",
    "game050622 = pd.read_csv(\"YakkertechData/05_06_2022 6_12_16 PM-Cal State Fullerton@UC San Diego Friday.csv\")\n",
    "game050722 = pd.read_csv(\"YakkertechData/05_07_2022 1_38_58 PM-Cal State Fullerton@UC San Diego Saturday.csv\")\n",
    "game050822 = pd.read_csv(\"YakkertechData/05_08_2022 12_51_13 PM-Cal State Fullerton@UC San Diego Sunday.csv\")\n",
    "game052022 = pd.read_csv(\"YakkertechData/05_20_2022 6_28_33 PM-Hawaii@UC San Diego Friday.csv\")\n",
    "game052122 = pd.read_csv(\"YakkertechData/05_21_2022 1_49_44 PM-Hawaii@UC San Diego Saturday.csv\")\n",
    "game052222 = pd.read_csv(\"YakkertechData/05_22_2022 12_54_59 PM-Hawaii@UC San Diego Sunday.csv\")\n",
    "game041422 = pd.read_csv(\"YakkertechData/UCSD_4_14_22 - UCSD_4_14_22.csv.csv\")\n",
    "game041522 = pd.read_csv(\"YakkertechData/UCSD_4_15_22 - UCSD_4_15_22.csv.csv\")\n",
    "game041622 = pd.read_csv(\"YakkertechData/UCSD_4_16_22 - UCSD_4_16_22.csv.csv\")"
   ]
  },
  {
   "cell_type": "code",
   "execution_count": 3,
   "id": "d77024f0",
   "metadata": {},
   "outputs": [],
   "source": [
    "yakkLst = [game040522, game040822, game041922, game042622, game042922, game043022, game050122, game050622, game050722, game050822, game052022, game052122, game052222]\n",
    "trackManLst = [game041422, game041522, game041622]\n",
    "yakkData = pd.concat(yakkLst)\n",
    "trackData = pd.concat(trackManLst)"
   ]
  },
  {
   "cell_type": "code",
   "execution_count": 4,
   "id": "c096bd64",
   "metadata": {},
   "outputs": [],
   "source": [
    "ucsdPitcherData = yakkData[yakkData.PitcherTeam == 'Uc san diego']\n",
    "ucsdPitcherFastballs = ucsdPitcherData[(ucsdPitcherData.TaggedPitchType == 'Fastball') | (ucsdPitcherData.TaggedPitchType == 'Sinker')]"
   ]
  },
  {
   "cell_type": "code",
   "execution_count": 5,
   "id": "d9d7e2df",
   "metadata": {},
   "outputs": [],
   "source": [
    "coledaleFB = ucsdPitcherFastballs[ucsdPitcherFastballs.Pitcher == 'Cole Dale']\n",
    "ryanrissasFB = ucsdPitcherFastballs[ucsdPitcherFastballs.Pitcher == 'Ryan Rissas']\n",
    "izaakmartinezFB = ucsdPitcherFastballs[ucsdPitcherFastballs.Pitcher == 'Izaak Martinez']\n",
    "ryanforcucciFB = ucsdPitcherFastballs[ucsdPitcherFastballs.Pitcher == 'Ryan Forcucci']\n",
    "arenalvarezFB = ucsdPitcherFastballs[ucsdPitcherFastballs.Pitcher == 'Aren Alvarez']\n",
    "joeysoberonFB = ucsdPitcherFastballs[ucsdPitcherFastballs.Pitcher == 'Joey Soberon']\n",
    "ethanholtFB = ucsdPitcherFastballs[ucsdPitcherFastballs.Pitcher == 'Ethan Holt']\n",
    "samhasegawaFB = ucsdPitcherFastballs[ucsdPitcherFastballs.Pitcher == 'Sam Hasegawa']\n",
    "zackernisseFB = ucsdPitcherFastballs[ucsdPitcherFastballs.Pitcher == 'Zach Ernisse']\n",
    "nolanmccrackenFB = ucsdPitcherFastballs[ucsdPitcherFastballs.Pitcher == 'Nolan Mccracken']\n",
    "chrisgilmartinFB = ucsdPitcherFastballs[ucsdPitcherFastballs.Pitcher == 'Chris Gilmartin']\n",
    "zachtonnerreFB = ucsdPitcherFastballs[ucsdPitcherFastballs.Pitcher == 'Zach Tonnerre']\n",
    "ucsdFBLst = [arenalvarezFB, coledaleFB, zackernisseFB, ryanforcucciFB, chrisgilmartinFB, samhasegawaFB, ethanholtFB, izaakmartinezFB, nolanmccrackenFB, ryanrissasFB, joeysoberonFB, zachtonnerreFB]"
   ]
  },
  {
   "cell_type": "code",
   "execution_count": 6,
   "id": "7468dadb",
   "metadata": {},
   "outputs": [],
   "source": [
    "def addidxcolumn(df):\n",
    "    if \"index\" in df.columns:\n",
    "        df = df.set_index(\"index\")\n",
    "        return df\n",
    "    df.insert(loc = 0, column = \"index\", value = range(df.shape[0]))\n",
    "    df = df.set_index(\"index\")\n",
    "    return df"
   ]
  },
  {
   "cell_type": "code",
   "execution_count": 9,
   "id": "81c5e39d",
   "metadata": {},
   "outputs": [
    {
     "data": {
      "text/html": [
       "<div>\n",
       "<style scoped>\n",
       "    .dataframe tbody tr th:only-of-type {\n",
       "        vertical-align: middle;\n",
       "    }\n",
       "\n",
       "    .dataframe tbody tr th {\n",
       "        vertical-align: top;\n",
       "    }\n",
       "\n",
       "    .dataframe thead th {\n",
       "        text-align: right;\n",
       "    }\n",
       "</style>\n",
       "<table border=\"1\" class=\"dataframe\">\n",
       "  <thead>\n",
       "    <tr style=\"text-align: right;\">\n",
       "      <th></th>\n",
       "      <th>Count</th>\n",
       "      <th>Velocity</th>\n",
       "      <th>Spin Rate</th>\n",
       "      <th>Efficiency</th>\n",
       "      <th>Tilt</th>\n",
       "      <th>Vertical Break</th>\n",
       "      <th>Horizontal Break</th>\n",
       "      <th>Miss %</th>\n",
       "      <th>SLG %</th>\n",
       "      <th>Strike %</th>\n",
       "      <th>Hard Hit %</th>\n",
       "    </tr>\n",
       "    <tr>\n",
       "      <th>Name</th>\n",
       "      <th></th>\n",
       "      <th></th>\n",
       "      <th></th>\n",
       "      <th></th>\n",
       "      <th></th>\n",
       "      <th></th>\n",
       "      <th></th>\n",
       "      <th></th>\n",
       "      <th></th>\n",
       "      <th></th>\n",
       "      <th></th>\n",
       "    </tr>\n",
       "  </thead>\n",
       "  <tbody>\n",
       "    <tr>\n",
       "      <th>Aren Alvarez</th>\n",
       "      <td>102</td>\n",
       "      <td>91.4</td>\n",
       "      <td>2288</td>\n",
       "      <td>98.8</td>\n",
       "      <td>1:06</td>\n",
       "      <td>15.1</td>\n",
       "      <td>8.8</td>\n",
       "      <td>10.20</td>\n",
       "      <td>0.423</td>\n",
       "      <td>67.65</td>\n",
       "      <td>25.00</td>\n",
       "    </tr>\n",
       "    <tr>\n",
       "      <th>Cole Dale</th>\n",
       "      <td>87</td>\n",
       "      <td>85.8</td>\n",
       "      <td>1953</td>\n",
       "      <td>72.8</td>\n",
       "      <td>1:17</td>\n",
       "      <td>11.6</td>\n",
       "      <td>6.8</td>\n",
       "      <td>21.43</td>\n",
       "      <td>0.250</td>\n",
       "      <td>52.87</td>\n",
       "      <td>33.33</td>\n",
       "    </tr>\n",
       "    <tr>\n",
       "      <th>Zach Ernisse</th>\n",
       "      <td>208</td>\n",
       "      <td>88.7</td>\n",
       "      <td>1953</td>\n",
       "      <td>93.2</td>\n",
       "      <td>11:04</td>\n",
       "      <td>14.2</td>\n",
       "      <td>-7.1</td>\n",
       "      <td>12.15</td>\n",
       "      <td>0.434</td>\n",
       "      <td>66.83</td>\n",
       "      <td>20.00</td>\n",
       "    </tr>\n",
       "    <tr>\n",
       "      <th>Ryan Forcucci</th>\n",
       "      <td>143</td>\n",
       "      <td>91.5</td>\n",
       "      <td>2273</td>\n",
       "      <td>98.9</td>\n",
       "      <td>1:31</td>\n",
       "      <td>13.4</td>\n",
       "      <td>10.1</td>\n",
       "      <td>15.38</td>\n",
       "      <td>0.188</td>\n",
       "      <td>72.73</td>\n",
       "      <td>20.83</td>\n",
       "    </tr>\n",
       "    <tr>\n",
       "      <th>Chris Gilmartin</th>\n",
       "      <td>20</td>\n",
       "      <td>82.3</td>\n",
       "      <td>1995</td>\n",
       "      <td>99.2</td>\n",
       "      <td>11:12</td>\n",
       "      <td>16.9</td>\n",
       "      <td>-6.5</td>\n",
       "      <td>14.29</td>\n",
       "      <td>0.200</td>\n",
       "      <td>50.00</td>\n",
       "      <td>25.00</td>\n",
       "    </tr>\n",
       "    <tr>\n",
       "      <th>Sam Hasegawa</th>\n",
       "      <td>50</td>\n",
       "      <td>83.0</td>\n",
       "      <td>1826</td>\n",
       "      <td>85.9</td>\n",
       "      <td>11:44</td>\n",
       "      <td>15.2</td>\n",
       "      <td>-1.2</td>\n",
       "      <td>4.55</td>\n",
       "      <td>0.444</td>\n",
       "      <td>60.00</td>\n",
       "      <td>33.33</td>\n",
       "    </tr>\n",
       "    <tr>\n",
       "      <th>Ethan Holt</th>\n",
       "      <td>81</td>\n",
       "      <td>86.9</td>\n",
       "      <td>1787</td>\n",
       "      <td>86.5</td>\n",
       "      <td>1:36</td>\n",
       "      <td>10.5</td>\n",
       "      <td>9.0</td>\n",
       "      <td>0.00</td>\n",
       "      <td>0.500</td>\n",
       "      <td>67.90</td>\n",
       "      <td>36.36</td>\n",
       "    </tr>\n",
       "    <tr>\n",
       "      <th>Izaak Martinez</th>\n",
       "      <td>107</td>\n",
       "      <td>86.7</td>\n",
       "      <td>2328</td>\n",
       "      <td>96.2</td>\n",
       "      <td>11:27</td>\n",
       "      <td>17.9</td>\n",
       "      <td>-3.9</td>\n",
       "      <td>13.33</td>\n",
       "      <td>0.240</td>\n",
       "      <td>62.62</td>\n",
       "      <td>11.11</td>\n",
       "    </tr>\n",
       "    <tr>\n",
       "      <th>Nolan Mccracken</th>\n",
       "      <td>45</td>\n",
       "      <td>89.5</td>\n",
       "      <td>2245</td>\n",
       "      <td>90.3</td>\n",
       "      <td>0:35</td>\n",
       "      <td>15.8</td>\n",
       "      <td>2.9</td>\n",
       "      <td>13.64</td>\n",
       "      <td>0.333</td>\n",
       "      <td>64.44</td>\n",
       "      <td>0.00</td>\n",
       "    </tr>\n",
       "    <tr>\n",
       "      <th>Ryan Rissas</th>\n",
       "      <td>64</td>\n",
       "      <td>88.4</td>\n",
       "      <td>2159</td>\n",
       "      <td>97.1</td>\n",
       "      <td>11:41</td>\n",
       "      <td>17.5</td>\n",
       "      <td>-2.3</td>\n",
       "      <td>36.11</td>\n",
       "      <td>0.750</td>\n",
       "      <td>71.88</td>\n",
       "      <td>33.33</td>\n",
       "    </tr>\n",
       "    <tr>\n",
       "      <th>Joey Soberon</th>\n",
       "      <td>72</td>\n",
       "      <td>86.9</td>\n",
       "      <td>1930</td>\n",
       "      <td>90.3</td>\n",
       "      <td>1:29</td>\n",
       "      <td>11.8</td>\n",
       "      <td>9.1</td>\n",
       "      <td>21.43</td>\n",
       "      <td>0.500</td>\n",
       "      <td>58.33</td>\n",
       "      <td>22.22</td>\n",
       "    </tr>\n",
       "    <tr>\n",
       "      <th>Zach Tonnerre</th>\n",
       "      <td>76</td>\n",
       "      <td>90.2</td>\n",
       "      <td>1979</td>\n",
       "      <td>95.9</td>\n",
       "      <td>1:41</td>\n",
       "      <td>11.3</td>\n",
       "      <td>9.6</td>\n",
       "      <td>10.81</td>\n",
       "      <td>0.750</td>\n",
       "      <td>67.11</td>\n",
       "      <td>81.82</td>\n",
       "    </tr>\n",
       "  </tbody>\n",
       "</table>\n",
       "</div>"
      ],
      "text/plain": [
       "                 Count  Velocity  Spin Rate  Efficiency   Tilt  \\\n",
       "Name                                                             \n",
       "Aren Alvarez       102      91.4       2288        98.8   1:06   \n",
       "Cole Dale           87      85.8       1953        72.8   1:17   \n",
       "Zach Ernisse       208      88.7       1953        93.2  11:04   \n",
       "Ryan Forcucci      143      91.5       2273        98.9   1:31   \n",
       "Chris Gilmartin     20      82.3       1995        99.2  11:12   \n",
       "Sam Hasegawa        50      83.0       1826        85.9  11:44   \n",
       "Ethan Holt          81      86.9       1787        86.5   1:36   \n",
       "Izaak Martinez     107      86.7       2328        96.2  11:27   \n",
       "Nolan Mccracken     45      89.5       2245        90.3   0:35   \n",
       "Ryan Rissas         64      88.4       2159        97.1  11:41   \n",
       "Joey Soberon        72      86.9       1930        90.3   1:29   \n",
       "Zach Tonnerre       76      90.2       1979        95.9   1:41   \n",
       "\n",
       "                 Vertical Break  Horizontal Break  Miss %  SLG %  Strike %  \\\n",
       "Name                                                                         \n",
       "Aren Alvarez               15.1               8.8   10.20  0.423     67.65   \n",
       "Cole Dale                  11.6               6.8   21.43  0.250     52.87   \n",
       "Zach Ernisse               14.2              -7.1   12.15  0.434     66.83   \n",
       "Ryan Forcucci              13.4              10.1   15.38  0.188     72.73   \n",
       "Chris Gilmartin            16.9              -6.5   14.29  0.200     50.00   \n",
       "Sam Hasegawa               15.2              -1.2    4.55  0.444     60.00   \n",
       "Ethan Holt                 10.5               9.0    0.00  0.500     67.90   \n",
       "Izaak Martinez             17.9              -3.9   13.33  0.240     62.62   \n",
       "Nolan Mccracken            15.8               2.9   13.64  0.333     64.44   \n",
       "Ryan Rissas                17.5              -2.3   36.11  0.750     71.88   \n",
       "Joey Soberon               11.8               9.1   21.43  0.500     58.33   \n",
       "Zach Tonnerre              11.3               9.6   10.81  0.750     67.11   \n",
       "\n",
       "                 Hard Hit %  \n",
       "Name                         \n",
       "Aren Alvarez          25.00  \n",
       "Cole Dale             33.33  \n",
       "Zach Ernisse          20.00  \n",
       "Ryan Forcucci         20.83  \n",
       "Chris Gilmartin       25.00  \n",
       "Sam Hasegawa          33.33  \n",
       "Ethan Holt            36.36  \n",
       "Izaak Martinez        11.11  \n",
       "Nolan Mccracken        0.00  \n",
       "Ryan Rissas           33.33  \n",
       "Joey Soberon          22.22  \n",
       "Zach Tonnerre         81.82  "
      ]
     },
     "execution_count": 9,
     "metadata": {},
     "output_type": "execute_result"
    }
   ],
   "source": [
    "# Convert string data in form \"hour:minute\" to numerical form based on total minutes. For example, a value of 90 would be \n",
    "# equivalent to \"1:30\". \"12:00\" is represented as 0 for a RHP and 720 for a LHP to avoid skewing averages as RHP will have\n",
    "# lower tiltpoint scores and LHP will have higher tiltpoint scores on fastballs\n",
    "# Takes in a data frame and returns a series\n",
    "def tiltConv(pitcherdf):\n",
    "    hand = pitcherdf.PitcherThrows.iloc[0]\n",
    "    def toTiltpoints(tilt):\n",
    "        tilt = str(tilt)\n",
    "        colonpos = tilt.find(':')\n",
    "        tiltpts = 0\n",
    "        if (hand == 'Right') & (int(tilt[:colonpos]) == 12):\n",
    "            tiltpts += int(tilt[colonpos + 1:])\n",
    "        else:\n",
    "            tiltpts += (int(tilt[:colonpos]) * 60) + int(tilt[colonpos + 1:])\n",
    "        return tiltpts\n",
    "    tiltptseries = pitcherdf[pitcherdf.Tilt.notnull()].Tilt.apply(toTiltpoints)\n",
    "    return tiltptseries\n",
    "\n",
    "# Gets middle 95 percent of the data to eliminate outliers/misreads\n",
    "def mid95mean(dataSeries):    \n",
    "    serieslst = list(dataSeries)\n",
    "    if len(serieslst) < 3:\n",
    "        return np.mean(serieslst)\n",
    "    lower = np.percentile(serieslst, 2.5)\n",
    "    upper = np.percentile(serieslst, 97.5)\n",
    "    getmid = lambda val: (val >= lower) & (val <= upper)\n",
    "    midlst = list(filter(getmid, serieslst))\n",
    "    return np.mean(midlst)\n",
    "\n",
    "def createTable(pitcherdflst):\n",
    "    fullData = []\n",
    "    columns = ['Name', 'Count', 'Velocity', 'Spin Rate', 'Efficiency', 'Tilt', 'Vertical Break', 'Horizontal Break', 'Miss %', 'SLG %', 'Strike %', 'Hard Hit %']\n",
    "    for pitcher in pitcherdflst:\n",
    "        name = pitcher.Pitcher.iloc[0]\n",
    "        count = pitcher.shape[0]\n",
    "        if pitcher[(pitcher.PitchCall == 'StrikeSwinging') | (pitcher.PitchCall == 'Foul') | (pitcher.PitchCall == 'InPlay')].shape[0] == 0:\n",
    "            missrate = \"no swings\"\n",
    "        else:\n",
    "            missrate = pitcher[pitcher.PitchCall == 'StrikeSwinging'].shape[0] / pitcher[(pitcher.PitchCall == 'StrikeSwinging') | (pitcher.PitchCall == 'Foul') | (pitcher.PitchCall == 'InPlay')].shape[0] * 100\n",
    "            missrate = round(missrate, 2)\n",
    "        if pitcher[pitcher.KorBB == 'Strikeout'].shape[0] + pitcher[pitcher.PitchCall == 'InPlay'].shape[0] == 0:\n",
    "            slg = \"no result\"\n",
    "        else:\n",
    "            slg = (pitcher[pitcher.PlayResult == 'Single'].shape[0] + pitcher[pitcher.PlayResult == 'Double'].shape[0]*2 + pitcher[pitcher.PlayResult == 'Triple'].shape[0]*3 + pitcher[pitcher.PlayResult == 'HomeRun'].shape[0]*4) / (pitcher[pitcher.KorBB == 'Strikeout'].shape[0] + pitcher[pitcher.PitchCall == 'InPlay'].shape[0])\n",
    "            slg = round(slg, 3)\n",
    "        strike = pitcher[pitcher.PitchCall != 'BallCalled'].shape[0] / pitcher.shape[0] * 100\n",
    "        if pitcher[(pitcher.ExitSpeed.notnull()) & (pitcher.PitchCall == 'InPlay')].shape[0] == 0:\n",
    "            hardhit = \"no BIP\"\n",
    "        else:\n",
    "            hardhit = pitcher[(pitcher.ExitSpeed >= 95) & (pitcher.PitchCall == 'InPlay')].shape[0] / pitcher[(pitcher.ExitSpeed.notnull()) & (pitcher.PitchCall == 'InPlay')].shape[0] *100\n",
    "            hardhit = round(hardhit, 2)\n",
    "        velo = mid95mean(pitcher[pitcher.RelSpeed.notnull()].RelSpeed)\n",
    "        spin = mid95mean(pitcher[pitcher.SpinRate.notnull()].SpinRate)\n",
    "        efficiency = mid95mean(pitcher[pitcher.yt_Efficiency.notnull()].yt_Efficiency)\n",
    "        tiltpoints = mid95mean(tiltConv(pitcher))\n",
    "        tiltminutes = str(int(tiltpoints % 60))\n",
    "        if int(tiltminutes) < 10:\n",
    "            tiltminutes = \"0\" + tiltminutes\n",
    "        tilt = str(int(tiltpoints // 60)) + \":\" + tiltminutes\n",
    "        vb = mid95mean(pitcher[pitcher.InducedVertBreak.notnull()].InducedVertBreak)\n",
    "        hb = mid95mean(pitcher[pitcher.HorzBreak.notnull()].HorzBreak)\n",
    "        pitcherlst = [name, count, round(velo, 1), int(round(spin, 0)), round(efficiency, 1), tilt, round(vb, 1), round(hb, 1), missrate, slg, round(strike, 2), hardhit]\n",
    "        fullData.append(pitcherlst)\n",
    "    table = pd.DataFrame(fullData, columns = columns)\n",
    "    table = table.set_index('Name')\n",
    "    return table\n",
    "\n",
    "ucsdFBstats = createTable(ucsdFBLst)\n",
    "ucsdFBstats"
   ]
  },
  {
   "cell_type": "code",
   "execution_count": 10,
   "id": "b3966607",
   "metadata": {},
   "outputs": [
    {
     "data": {
      "text/html": [
       "<div>\n",
       "<style scoped>\n",
       "    .dataframe tbody tr th:only-of-type {\n",
       "        vertical-align: middle;\n",
       "    }\n",
       "\n",
       "    .dataframe tbody tr th {\n",
       "        vertical-align: top;\n",
       "    }\n",
       "\n",
       "    .dataframe thead th {\n",
       "        text-align: right;\n",
       "    }\n",
       "</style>\n",
       "<table border=\"1\" class=\"dataframe\">\n",
       "  <thead>\n",
       "    <tr style=\"text-align: right;\">\n",
       "      <th></th>\n",
       "      <th>Count</th>\n",
       "      <th>Velocity</th>\n",
       "      <th>Spin Rate</th>\n",
       "      <th>Efficiency</th>\n",
       "      <th>Tilt</th>\n",
       "      <th>Vertical Break</th>\n",
       "      <th>Horizontal Break</th>\n",
       "      <th>Miss %</th>\n",
       "      <th>SLG %</th>\n",
       "      <th>Strike %</th>\n",
       "      <th>Hard Hit %</th>\n",
       "    </tr>\n",
       "    <tr>\n",
       "      <th>Name</th>\n",
       "      <th></th>\n",
       "      <th></th>\n",
       "      <th></th>\n",
       "      <th></th>\n",
       "      <th></th>\n",
       "      <th></th>\n",
       "      <th></th>\n",
       "      <th></th>\n",
       "      <th></th>\n",
       "      <th></th>\n",
       "      <th></th>\n",
       "    </tr>\n",
       "  </thead>\n",
       "  <tbody>\n",
       "    <tr>\n",
       "      <th>Aren Alvarez</th>\n",
       "      <td>76</td>\n",
       "      <td>80.5</td>\n",
       "      <td>2527</td>\n",
       "      <td>23.9</td>\n",
       "      <td>7:55</td>\n",
       "      <td>1.9</td>\n",
       "      <td>-6.2</td>\n",
       "      <td>62.5</td>\n",
       "      <td>0.19</td>\n",
       "      <td>68.42</td>\n",
       "      <td>25.0</td>\n",
       "    </tr>\n",
       "    <tr>\n",
       "      <th>Cole Dale</th>\n",
       "      <td>62</td>\n",
       "      <td>77.8</td>\n",
       "      <td>2047</td>\n",
       "      <td>27.9</td>\n",
       "      <td>8:38</td>\n",
       "      <td>1.7</td>\n",
       "      <td>-7.1</td>\n",
       "      <td>30.0</td>\n",
       "      <td>0.417</td>\n",
       "      <td>51.61</td>\n",
       "      <td>33.33</td>\n",
       "    </tr>\n",
       "    <tr>\n",
       "      <th>Zach Ernisse</th>\n",
       "      <td>49</td>\n",
       "      <td>77.9</td>\n",
       "      <td>2328</td>\n",
       "      <td>50.7</td>\n",
       "      <td>4:58</td>\n",
       "      <td>-6.8</td>\n",
       "      <td>7.0</td>\n",
       "      <td>30.0</td>\n",
       "      <td>0.0</td>\n",
       "      <td>48.98</td>\n",
       "      <td>0.0</td>\n",
       "    </tr>\n",
       "    <tr>\n",
       "      <th>Ryan Forcucci</th>\n",
       "      <td>32</td>\n",
       "      <td>83.1</td>\n",
       "      <td>2424</td>\n",
       "      <td>26.7</td>\n",
       "      <td>8:46</td>\n",
       "      <td>2.1</td>\n",
       "      <td>-6.5</td>\n",
       "      <td>72.73</td>\n",
       "      <td>0.167</td>\n",
       "      <td>46.88</td>\n",
       "      <td>0.0</td>\n",
       "    </tr>\n",
       "    <tr>\n",
       "      <th>Chris Gilmartin</th>\n",
       "      <td>2</td>\n",
       "      <td>73.2</td>\n",
       "      <td>2135</td>\n",
       "      <td>18.9</td>\n",
       "      <td>4:00</td>\n",
       "      <td>1.6</td>\n",
       "      <td>6.0</td>\n",
       "      <td>no swings</td>\n",
       "      <td>no result</td>\n",
       "      <td>0.00</td>\n",
       "      <td>no BIP</td>\n",
       "    </tr>\n",
       "    <tr>\n",
       "      <th>Sam Hasegawa</th>\n",
       "      <td>7</td>\n",
       "      <td>76.7</td>\n",
       "      <td>2041</td>\n",
       "      <td>32.8</td>\n",
       "      <td>1:24</td>\n",
       "      <td>8.0</td>\n",
       "      <td>6.0</td>\n",
       "      <td>0.0</td>\n",
       "      <td>no result</td>\n",
       "      <td>28.57</td>\n",
       "      <td>no BIP</td>\n",
       "    </tr>\n",
       "    <tr>\n",
       "      <th>Ethan Holt</th>\n",
       "      <td>39</td>\n",
       "      <td>79.1</td>\n",
       "      <td>1727</td>\n",
       "      <td>33.9</td>\n",
       "      <td>9:46</td>\n",
       "      <td>6.4</td>\n",
       "      <td>-3.1</td>\n",
       "      <td>15.0</td>\n",
       "      <td>0.571</td>\n",
       "      <td>74.36</td>\n",
       "      <td>20.0</td>\n",
       "    </tr>\n",
       "    <tr>\n",
       "      <th>Nolan Mccracken</th>\n",
       "      <td>18</td>\n",
       "      <td>76.3</td>\n",
       "      <td>2503</td>\n",
       "      <td>53.5</td>\n",
       "      <td>7:46</td>\n",
       "      <td>-1.9</td>\n",
       "      <td>-9.9</td>\n",
       "      <td>44.44</td>\n",
       "      <td>0.0</td>\n",
       "      <td>61.11</td>\n",
       "      <td>0.0</td>\n",
       "    </tr>\n",
       "  </tbody>\n",
       "</table>\n",
       "</div>"
      ],
      "text/plain": [
       "                 Count  Velocity  Spin Rate  Efficiency  Tilt  Vertical Break  \\\n",
       "Name                                                                            \n",
       "Aren Alvarez        76      80.5       2527        23.9  7:55             1.9   \n",
       "Cole Dale           62      77.8       2047        27.9  8:38             1.7   \n",
       "Zach Ernisse        49      77.9       2328        50.7  4:58            -6.8   \n",
       "Ryan Forcucci       32      83.1       2424        26.7  8:46             2.1   \n",
       "Chris Gilmartin      2      73.2       2135        18.9  4:00             1.6   \n",
       "Sam Hasegawa         7      76.7       2041        32.8  1:24             8.0   \n",
       "Ethan Holt          39      79.1       1727        33.9  9:46             6.4   \n",
       "Nolan Mccracken     18      76.3       2503        53.5  7:46            -1.9   \n",
       "\n",
       "                 Horizontal Break     Miss %      SLG %  Strike % Hard Hit %  \n",
       "Name                                                                          \n",
       "Aren Alvarez                 -6.2       62.5       0.19     68.42       25.0  \n",
       "Cole Dale                    -7.1       30.0      0.417     51.61      33.33  \n",
       "Zach Ernisse                  7.0       30.0        0.0     48.98        0.0  \n",
       "Ryan Forcucci                -6.5      72.73      0.167     46.88        0.0  \n",
       "Chris Gilmartin               6.0  no swings  no result      0.00     no BIP  \n",
       "Sam Hasegawa                  6.0        0.0  no result     28.57     no BIP  \n",
       "Ethan Holt                   -3.1       15.0      0.571     74.36       20.0  \n",
       "Nolan Mccracken              -9.9      44.44        0.0     61.11        0.0  "
      ]
     },
     "execution_count": 10,
     "metadata": {},
     "output_type": "execute_result"
    }
   ],
   "source": [
    "arenalvarezSL = ucsdPitcherData[(ucsdPitcherData.Pitcher == 'Aren Alvarez') & (ucsdPitcherData.TaggedPitchType == 'Slider')]\n",
    "coledaleSL = ucsdPitcherData[(ucsdPitcherData.Pitcher == 'Cole Dale') & (ucsdPitcherData.TaggedPitchType == 'Slider')]\n",
    "zackernisseSL = ucsdPitcherData[(ucsdPitcherData.Pitcher == 'Zach Ernisse') & (ucsdPitcherData.TaggedPitchType == 'Slider')]\n",
    "ryanforcucciSL = ucsdPitcherData[(ucsdPitcherData.Pitcher == 'Ryan Forcucci') & (ucsdPitcherData.TaggedPitchType == 'Slider')]\n",
    "chrisgilmartinSL = ucsdPitcherData[(ucsdPitcherData.Pitcher == 'Chris Gilmartin') & (ucsdPitcherData.TaggedPitchType == 'Slider')]\n",
    "samhasegawaSL = ucsdPitcherData[(ucsdPitcherData.Pitcher == 'Sam Hasegawa') & ((ucsdPitcherData.TaggedPitchType == 'Slider') | (ucsdPitcherData.TaggedPitchType == 'Changeup'))]\n",
    "ethanholtSL = ucsdPitcherData[(ucsdPitcherData.Pitcher == 'Ethan Holt') & (ucsdPitcherData.TaggedPitchType == 'Slider')]\n",
    "nolanmccrackenSL = ucsdPitcherData[(ucsdPitcherData.Pitcher == 'Nolan Mccracken') & (ucsdPitcherData.TaggedPitchType == 'Slider')]\n",
    "ucsdSLlst = [arenalvarezSL, coledaleSL, zackernisseSL, ryanforcucciSL, chrisgilmartinSL, samhasegawaSL, ethanholtSL, nolanmccrackenSL]\n",
    "ucsdSLStats = createTable(ucsdSLlst)\n",
    "ucsdSLStats"
   ]
  },
  {
   "cell_type": "code",
   "execution_count": 11,
   "id": "7829b2b9",
   "metadata": {},
   "outputs": [
    {
     "data": {
      "text/html": [
       "<div>\n",
       "<style scoped>\n",
       "    .dataframe tbody tr th:only-of-type {\n",
       "        vertical-align: middle;\n",
       "    }\n",
       "\n",
       "    .dataframe tbody tr th {\n",
       "        vertical-align: top;\n",
       "    }\n",
       "\n",
       "    .dataframe thead th {\n",
       "        text-align: right;\n",
       "    }\n",
       "</style>\n",
       "<table border=\"1\" class=\"dataframe\">\n",
       "  <thead>\n",
       "    <tr style=\"text-align: right;\">\n",
       "      <th></th>\n",
       "      <th>Count</th>\n",
       "      <th>Velocity</th>\n",
       "      <th>Spin Rate</th>\n",
       "      <th>Efficiency</th>\n",
       "      <th>Tilt</th>\n",
       "      <th>Vertical Break</th>\n",
       "      <th>Horizontal Break</th>\n",
       "      <th>Miss %</th>\n",
       "      <th>SLG %</th>\n",
       "      <th>Strike %</th>\n",
       "      <th>Hard Hit %</th>\n",
       "    </tr>\n",
       "    <tr>\n",
       "      <th>Name</th>\n",
       "      <th></th>\n",
       "      <th></th>\n",
       "      <th></th>\n",
       "      <th></th>\n",
       "      <th></th>\n",
       "      <th></th>\n",
       "      <th></th>\n",
       "      <th></th>\n",
       "      <th></th>\n",
       "      <th></th>\n",
       "      <th></th>\n",
       "    </tr>\n",
       "  </thead>\n",
       "  <tbody>\n",
       "    <tr>\n",
       "      <th>Izaak Martinez</th>\n",
       "      <td>2</td>\n",
       "      <td>78.3</td>\n",
       "      <td>2333</td>\n",
       "      <td>34.1</td>\n",
       "      <td>5:00</td>\n",
       "      <td>-4.1</td>\n",
       "      <td>6.1</td>\n",
       "      <td>0.00</td>\n",
       "      <td>1.00</td>\n",
       "      <td>50.00</td>\n",
       "      <td>no BIP</td>\n",
       "    </tr>\n",
       "    <tr>\n",
       "      <th>Ryan Rissas</th>\n",
       "      <td>30</td>\n",
       "      <td>76.1</td>\n",
       "      <td>2405</td>\n",
       "      <td>51.8</td>\n",
       "      <td>5:28</td>\n",
       "      <td>-9.2</td>\n",
       "      <td>5.1</td>\n",
       "      <td>54.55</td>\n",
       "      <td>0.00</td>\n",
       "      <td>50.00</td>\n",
       "      <td>0.0</td>\n",
       "    </tr>\n",
       "    <tr>\n",
       "      <th>Joey Soberon</th>\n",
       "      <td>26</td>\n",
       "      <td>77.0</td>\n",
       "      <td>1647</td>\n",
       "      <td>58.0</td>\n",
       "      <td>6:37</td>\n",
       "      <td>-5.1</td>\n",
       "      <td>-4.1</td>\n",
       "      <td>45.45</td>\n",
       "      <td>0.25</td>\n",
       "      <td>65.38</td>\n",
       "      <td>0.0</td>\n",
       "    </tr>\n",
       "  </tbody>\n",
       "</table>\n",
       "</div>"
      ],
      "text/plain": [
       "                Count  Velocity  Spin Rate  Efficiency  Tilt  Vertical Break  \\\n",
       "Name                                                                           \n",
       "Izaak Martinez      2      78.3       2333        34.1  5:00            -4.1   \n",
       "Ryan Rissas        30      76.1       2405        51.8  5:28            -9.2   \n",
       "Joey Soberon       26      77.0       1647        58.0  6:37            -5.1   \n",
       "\n",
       "                Horizontal Break  Miss %  SLG %  Strike % Hard Hit %  \n",
       "Name                                                                  \n",
       "Izaak Martinez               6.1    0.00   1.00     50.00     no BIP  \n",
       "Ryan Rissas                  5.1   54.55   0.00     50.00        0.0  \n",
       "Joey Soberon                -4.1   45.45   0.25     65.38        0.0  "
      ]
     },
     "execution_count": 11,
     "metadata": {},
     "output_type": "execute_result"
    }
   ],
   "source": [
    "izaakmartinezCB = ucsdPitcherData[(ucsdPitcherData.Pitcher == 'Izaak Martinez') & (ucsdPitcherData.TaggedPitchType == 'Curveball')]\n",
    "ryanrissasCB = ucsdPitcherData[(ucsdPitcherData.Pitcher == 'Ryan Rissas') & (ucsdPitcherData.TaggedPitchType == 'Curveball')]\n",
    "joeysoberonCB = ucsdPitcherData[(ucsdPitcherData.Pitcher == 'Joey Soberon') & ((ucsdPitcherData.TaggedPitchType == 'Curveball') | (ucsdPitcherData.TaggedPitchType == 'Slider'))]\n",
    "ucsdCBlst = [izaakmartinezCB, ryanrissasCB, joeysoberonCB]\n",
    "ucsdCBStats = createTable(ucsdCBlst)\n",
    "ucsdCBStats"
   ]
  },
  {
   "cell_type": "code",
   "execution_count": 12,
   "id": "2ecb4020",
   "metadata": {},
   "outputs": [
    {
     "data": {
      "text/html": [
       "<div>\n",
       "<style scoped>\n",
       "    .dataframe tbody tr th:only-of-type {\n",
       "        vertical-align: middle;\n",
       "    }\n",
       "\n",
       "    .dataframe tbody tr th {\n",
       "        vertical-align: top;\n",
       "    }\n",
       "\n",
       "    .dataframe thead th {\n",
       "        text-align: right;\n",
       "    }\n",
       "</style>\n",
       "<table border=\"1\" class=\"dataframe\">\n",
       "  <thead>\n",
       "    <tr style=\"text-align: right;\">\n",
       "      <th></th>\n",
       "      <th>Count</th>\n",
       "      <th>Velocity</th>\n",
       "      <th>Spin Rate</th>\n",
       "      <th>Efficiency</th>\n",
       "      <th>Tilt</th>\n",
       "      <th>Vertical Break</th>\n",
       "      <th>Horizontal Break</th>\n",
       "      <th>Miss %</th>\n",
       "      <th>SLG %</th>\n",
       "      <th>Strike %</th>\n",
       "      <th>Hard Hit %</th>\n",
       "    </tr>\n",
       "    <tr>\n",
       "      <th>Name</th>\n",
       "      <th></th>\n",
       "      <th></th>\n",
       "      <th></th>\n",
       "      <th></th>\n",
       "      <th></th>\n",
       "      <th></th>\n",
       "      <th></th>\n",
       "      <th></th>\n",
       "      <th></th>\n",
       "      <th></th>\n",
       "      <th></th>\n",
       "    </tr>\n",
       "  </thead>\n",
       "  <tbody>\n",
       "    <tr>\n",
       "      <th>Aren Alvarez</th>\n",
       "      <td>4</td>\n",
       "      <td>81.8</td>\n",
       "      <td>1971</td>\n",
       "      <td>98.7</td>\n",
       "      <td>1:30</td>\n",
       "      <td>12.7</td>\n",
       "      <td>11.9</td>\n",
       "      <td>100.00</td>\n",
       "      <td>no result</td>\n",
       "      <td>75.00</td>\n",
       "      <td>no BIP</td>\n",
       "    </tr>\n",
       "    <tr>\n",
       "      <th>Cole Dale</th>\n",
       "      <td>5</td>\n",
       "      <td>81.7</td>\n",
       "      <td>1401</td>\n",
       "      <td>94.5</td>\n",
       "      <td>2:00</td>\n",
       "      <td>7.8</td>\n",
       "      <td>10.2</td>\n",
       "      <td>0.00</td>\n",
       "      <td>0.333</td>\n",
       "      <td>60.00</td>\n",
       "      <td>100.0</td>\n",
       "    </tr>\n",
       "    <tr>\n",
       "      <th>Zach Ernisse</th>\n",
       "      <td>17</td>\n",
       "      <td>80.9</td>\n",
       "      <td>1507</td>\n",
       "      <td>92.5</td>\n",
       "      <td>10:28</td>\n",
       "      <td>10.4</td>\n",
       "      <td>-9.2</td>\n",
       "      <td>16.67</td>\n",
       "      <td>0.5</td>\n",
       "      <td>41.18</td>\n",
       "      <td>0.0</td>\n",
       "    </tr>\n",
       "    <tr>\n",
       "      <th>Ryan Forcucci</th>\n",
       "      <td>5</td>\n",
       "      <td>86.3</td>\n",
       "      <td>1898</td>\n",
       "      <td>99.5</td>\n",
       "      <td>2:37</td>\n",
       "      <td>4.5</td>\n",
       "      <td>9.7</td>\n",
       "      <td>0.00</td>\n",
       "      <td>0.667</td>\n",
       "      <td>80.00</td>\n",
       "      <td>50.0</td>\n",
       "    </tr>\n",
       "    <tr>\n",
       "      <th>Chris Gilmartin</th>\n",
       "      <td>8</td>\n",
       "      <td>77.1</td>\n",
       "      <td>1476</td>\n",
       "      <td>99.1</td>\n",
       "      <td>10:51</td>\n",
       "      <td>13.2</td>\n",
       "      <td>-7.9</td>\n",
       "      <td>100.00</td>\n",
       "      <td>no result</td>\n",
       "      <td>50.00</td>\n",
       "      <td>no BIP</td>\n",
       "    </tr>\n",
       "    <tr>\n",
       "      <th>Ethan Holt</th>\n",
       "      <td>9</td>\n",
       "      <td>82.3</td>\n",
       "      <td>1902</td>\n",
       "      <td>96.1</td>\n",
       "      <td>2:40</td>\n",
       "      <td>4.1</td>\n",
       "      <td>15.0</td>\n",
       "      <td>0.00</td>\n",
       "      <td>1.667</td>\n",
       "      <td>33.33</td>\n",
       "      <td>33.33</td>\n",
       "    </tr>\n",
       "    <tr>\n",
       "      <th>Izaak Martinez</th>\n",
       "      <td>14</td>\n",
       "      <td>81.0</td>\n",
       "      <td>1682</td>\n",
       "      <td>96.8</td>\n",
       "      <td>11:00</td>\n",
       "      <td>13.8</td>\n",
       "      <td>-6.8</td>\n",
       "      <td>50.00</td>\n",
       "      <td>0.833</td>\n",
       "      <td>85.71</td>\n",
       "      <td>66.67</td>\n",
       "    </tr>\n",
       "    <tr>\n",
       "      <th>Joey Soberon</th>\n",
       "      <td>27</td>\n",
       "      <td>78.4</td>\n",
       "      <td>1385</td>\n",
       "      <td>75.6</td>\n",
       "      <td>2:07</td>\n",
       "      <td>6.7</td>\n",
       "      <td>8.4</td>\n",
       "      <td>46.15</td>\n",
       "      <td>0.0</td>\n",
       "      <td>55.56</td>\n",
       "      <td>33.33</td>\n",
       "    </tr>\n",
       "  </tbody>\n",
       "</table>\n",
       "</div>"
      ],
      "text/plain": [
       "                 Count  Velocity  Spin Rate  Efficiency   Tilt  \\\n",
       "Name                                                             \n",
       "Aren Alvarez         4      81.8       1971        98.7   1:30   \n",
       "Cole Dale            5      81.7       1401        94.5   2:00   \n",
       "Zach Ernisse        17      80.9       1507        92.5  10:28   \n",
       "Ryan Forcucci        5      86.3       1898        99.5   2:37   \n",
       "Chris Gilmartin      8      77.1       1476        99.1  10:51   \n",
       "Ethan Holt           9      82.3       1902        96.1   2:40   \n",
       "Izaak Martinez      14      81.0       1682        96.8  11:00   \n",
       "Joey Soberon        27      78.4       1385        75.6   2:07   \n",
       "\n",
       "                 Vertical Break  Horizontal Break  Miss %      SLG %  \\\n",
       "Name                                                                   \n",
       "Aren Alvarez               12.7              11.9  100.00  no result   \n",
       "Cole Dale                   7.8              10.2    0.00      0.333   \n",
       "Zach Ernisse               10.4              -9.2   16.67        0.5   \n",
       "Ryan Forcucci               4.5               9.7    0.00      0.667   \n",
       "Chris Gilmartin            13.2              -7.9  100.00  no result   \n",
       "Ethan Holt                  4.1              15.0    0.00      1.667   \n",
       "Izaak Martinez             13.8              -6.8   50.00      0.833   \n",
       "Joey Soberon                6.7               8.4   46.15        0.0   \n",
       "\n",
       "                 Strike % Hard Hit %  \n",
       "Name                                  \n",
       "Aren Alvarez        75.00     no BIP  \n",
       "Cole Dale           60.00      100.0  \n",
       "Zach Ernisse        41.18        0.0  \n",
       "Ryan Forcucci       80.00       50.0  \n",
       "Chris Gilmartin     50.00     no BIP  \n",
       "Ethan Holt          33.33      33.33  \n",
       "Izaak Martinez      85.71      66.67  \n",
       "Joey Soberon        55.56      33.33  "
      ]
     },
     "execution_count": 12,
     "metadata": {},
     "output_type": "execute_result"
    }
   ],
   "source": [
    "arenalvarezCH = ucsdPitcherData[(ucsdPitcherData.Pitcher == 'Aren Alvarez') & (ucsdPitcherData.TaggedPitchType == 'Changeup')]\n",
    "coledaleCH = ucsdPitcherData[(ucsdPitcherData.Pitcher == 'Cole Dale') & (ucsdPitcherData.TaggedPitchType == 'Changeup')]\n",
    "zackernisseCH = ucsdPitcherData[(ucsdPitcherData.Pitcher == 'Zach Ernisse') & (ucsdPitcherData.TaggedPitchType == 'Changeup')]\n",
    "ryanforcucciCH = ucsdPitcherData[(ucsdPitcherData.Pitcher == 'Ryan Forcucci') & (ucsdPitcherData.TaggedPitchType == 'Changeup')]\n",
    "chrisgilmartinCH = ucsdPitcherData[(ucsdPitcherData.Pitcher == 'Chris Gilmartin') & (ucsdPitcherData.TaggedPitchType == 'Changeup')]\n",
    "ethanholtCH = ucsdPitcherData[(ucsdPitcherData.Pitcher == 'Ethan Holt') & (ucsdPitcherData.TaggedPitchType == 'Changeup')]\n",
    "izaakmartinezCH = ucsdPitcherData[(ucsdPitcherData.Pitcher == 'Izaak Martinez') & (ucsdPitcherData.TaggedPitchType == 'Changeup')]\n",
    "joeysoberonCH = ucsdPitcherData[(ucsdPitcherData.Pitcher == 'Joey Soberon') & (ucsdPitcherData.TaggedPitchType == 'Changeup')]\n",
    "ucsdCHlst = [arenalvarezCH, coledaleCH, zackernisseCH, ryanforcucciCH, chrisgilmartinCH, ethanholtCH, izaakmartinezCH, joeysoberonCH]\n",
    "ucsdCHStats = createTable(ucsdCHlst)\n",
    "ucsdCHStats"
   ]
  },
  {
   "cell_type": "code",
   "execution_count": 193,
   "id": "1bfadbe2",
   "metadata": {},
   "outputs": [
    {
     "data": {
      "text/plain": [
       "{'Heart': -0.047,\n",
       " '1 Spot': 0.019,\n",
       " '2 spot': 0.032,\n",
       " 'Down Middle': -0.061,\n",
       " 'Left Middle': 0.065,\n",
       " 'Right Middle': -0.102,\n",
       " 'Chase Up': 0.048,\n",
       " 'Chase Down': 0.069,\n",
       " 'Chase Left': 0.06,\n",
       " 'Chase Right': -0.001,\n",
       " 'Waste': 'no data'}"
      ]
     },
     "execution_count": 193,
     "metadata": {},
     "output_type": "execute_result"
    }
   ],
   "source": [
    "heartleft = -6.67 / 12\n",
    "heartright = 6.67 / 12\n",
    "heartdown = 22 / 12\n",
    "heartup = 38 / 12\n",
    "spot1left = -13.33 / 12\n",
    "spot1right = heartleft\n",
    "spot1up = heartdown\n",
    "spot1down = 14 / 12\n",
    "spot2left = heartright\n",
    "spot2right = 13.33 / 12\n",
    "spot2up = spot1up\n",
    "spot2down = spot1down\n",
    "spot3down = heartup\n",
    "spot3up = 46 / 12\n",
    "spot3left = spot1left\n",
    "spot3right = spot2right\n",
    "downmidright = spot2left\n",
    "downmidleft = spot1right\n",
    "downmidup = spot1up\n",
    "downmiddown = spot1down\n",
    "leftmidright = spot1right\n",
    "leftmidleft = spot1left\n",
    "leftmiddown = spot1up\n",
    "leftmidup = spot3down\n",
    "rightmidright = spot2right\n",
    "rightmidleft = spot2left\n",
    "rightmidup = spot3down\n",
    "rightmiddown = spot2up\n",
    "chaseupup = 54 / 12\n",
    "chaseupdown = spot3up\n",
    "chaseupleft = -20 / 12\n",
    "chaseupright = 20 / 12\n",
    "chaseleftleft = chaseupleft\n",
    "chaseleftright = spot1left\n",
    "chaseleftup = spot3up\n",
    "chaseleftdown = 1 / 2\n",
    "chaserightup = spot3up\n",
    "chaserightright = chaseupright\n",
    "chaserightleft = spot2right\n",
    "chaserightdown = chaseleftdown\n",
    "chasedowndown = chaseleftdown\n",
    "chasedownup = spot1down\n",
    "chasedownleft = spot1left\n",
    "chasedownright = spot2right\n",
    "\n",
    "runvals = pd.read_csv(\"YakkertechData/RunValuesByCount.csv\").set_index(\"Situation\")\n",
    "outval = -0.299\n",
    "hbpval = 0.385\n",
    "\n",
    "def calcrunvalperpitch(zonedf):\n",
    "    totalrv = 0\n",
    "    if zonedf.shape[0] == 0:\n",
    "        return \"no data\"\n",
    "    idxlst = list(zonedf.index)\n",
    "    for i in idxlst:\n",
    "        pitch = zonedf.loc[i]\n",
    "        result = pitch.get(\"PitchCall\")\n",
    "        count = str(pitch.get(\"Balls\")) + \"-\" + str(pitch.get(\"Strikes\"))\n",
    "        if result == 'BallCalled':\n",
    "            totalrv += runvals.loc[count].get(\"Value of Ball\")\n",
    "        elif (result == 'CalledStrike') | (result == 'SwingingStrike') | ((result == 'Foul') & (pitch.get(\"Strikes\") != 2)):\n",
    "            totalrv += runvals.loc[count].get(\"Value of Strike\")\n",
    "        elif result == \"InPlay\":\n",
    "            hit = pitch.get(\"PlayResult\")\n",
    "            if hit == \"Single\":\n",
    "                totalrv += runvals.loc[count].get(\"v1B\")\n",
    "            elif hit == \"Double\":\n",
    "                totalrv += runvals.loc[count].get(\"v2B\")\n",
    "            elif hit == \"Triple\":\n",
    "                totalrv += runvals.loc[count].get(\"v3B\")\n",
    "            elif hit == \"HomeRun\":\n",
    "                totalrv += runvals.loc[count].get(\"vHR\")\n",
    "            else:\n",
    "                totalrv += outval\n",
    "        else:\n",
    "            if result == \"HitByPitch\":\n",
    "                totalrv += hbpval\n",
    "    return round(totalrv/zonedf.shape[0], 3)\n",
    "\n",
    "def findrunvalues(pitcherdf):\n",
    "    pitcherdf = addidxcolumn(pitcherdf)\n",
    "    heartpitches = pitcherdf[((pitcherdf.PlateLocHeight > heartdown) & (pitcherdf.PlateLocHeight < heartup)) & \n",
    "                            ((pitcherdf.PlateLocSide > heartleft) & (pitcherdf.PlateLocSide < heartright))]\n",
    "    zone1pitches = pitcherdf[((pitcherdf.PlateLocHeight >= spot1down) & (pitcherdf.PlateLocHeight <= spot1up)) & \n",
    "                            ((pitcherdf.PlateLocSide >= spot1left) & (pitcherdf.PlateLocSide <= spot1right))]\n",
    "    zone2pitches = pitcherdf[((pitcherdf.PlateLocHeight >= spot2down) & (pitcherdf.PlateLocHeight <= spot2up)) & \n",
    "                            ((pitcherdf.PlateLocSide >= spot2left) & (pitcherdf.PlateLocSide <= spot2right))]\n",
    "    zone3pitches = pitcherdf[((pitcherdf.PlateLocHeight >= spot3down) & (pitcherdf.PlateLocHeight <= spot3up)) & \n",
    "                            ((pitcherdf.PlateLocSide >= spot3left) & (pitcherdf.PlateLocSide <= spot3right))]\n",
    "    downmidpitches = pitcherdf[((pitcherdf.PlateLocHeight >= downmiddown) & (pitcherdf.PlateLocHeight <= downmidup)) & \n",
    "                            ((pitcherdf.PlateLocSide >= downmidleft) & (pitcherdf.PlateLocSide <= downmidright))]\n",
    "    leftmidpitches = pitcherdf[((pitcherdf.PlateLocHeight >= leftmiddown) & (pitcherdf.PlateLocHeight <= leftmidup)) & \n",
    "                            ((pitcherdf.PlateLocSide >= leftmidleft) & (pitcherdf.PlateLocSide <= leftmidright))]\n",
    "    rightmidpitches = pitcherdf[((pitcherdf.PlateLocHeight >= rightmiddown) & (pitcherdf.PlateLocHeight <= rightmidup)) & \n",
    "                            ((pitcherdf.PlateLocSide >= rightmidleft) & (pitcherdf.PlateLocSide <= rightmidright))]\n",
    "    chaseuppitches = pitcherdf[((pitcherdf.PlateLocHeight >= chaseupdown) & (pitcherdf.PlateLocHeight <= chaseupup)) & \n",
    "                            ((pitcherdf.PlateLocSide >= chaseupleft) & (pitcherdf.PlateLocSide <= chaseupright))]\n",
    "    chasedownpitches = pitcherdf[((pitcherdf.PlateLocHeight >= chasedowndown) & (pitcherdf.PlateLocHeight <= chasedownup)) & \n",
    "                            ((pitcherdf.PlateLocSide >= chasedownleft) & (pitcherdf.PlateLocSide <= chasedownright))]\n",
    "    chaseleftpitches = pitcherdf[((pitcherdf.PlateLocHeight >= chaseleftdown) & (pitcherdf.PlateLocHeight <= chaseleftup)) & \n",
    "                            ((pitcherdf.PlateLocSide >= chaseleftleft) & (pitcherdf.PlateLocSide <= chaseleftright))]\n",
    "    chaserightpitches = pitcherdf[((pitcherdf.PlateLocHeight >= chaserightdown) & (pitcherdf.PlateLocHeight <= chaserightup)) & \n",
    "                            ((pitcherdf.PlateLocSide >= chaserightleft) & (pitcherdf.PlateLocSide <= chaserightright))]\n",
    "    wastepitches = pitcherdf[(pitcherdf.PlateLocHeight < chasedowndown) & (pitcherdf.PlateLocHeight > chaseupup) &\n",
    "                            (pitcherdf.PlateLocSide > chaserightright) & (pitcherdf.PlateLocSide < chaseleftleft)]\n",
    "    rvdict = {\"Heart\": calcrunvalperpitch(heartpitches), \"1 Spot\": calcrunvalperpitch(zone1pitches), \"2 spot\": calcrunvalperpitch(zone2pitches),\n",
    "             \"Down Middle\": calcrunvalperpitch(downmidpitches), \"Left Middle\": calcrunvalperpitch(leftmidpitches), \n",
    "             \"Right Middle\": calcrunvalperpitch(rightmidpitches), \"Chase Up\": calcrunvalperpitch(chaseuppitches),\n",
    "             \"Chase Down\": calcrunvalperpitch(chasedownpitches), \"Chase Left\": calcrunvalperpitch(chaseleftpitches), \n",
    "             \"Chase Right\": calcrunvalperpitch(chaserightpitches), \"Waste\": calcrunvalperpitch(wastepitches)}\n",
    "    return rvdict\n",
    "\n",
    "findrunvalues(arenalvarezFB)"
   ]
  },
  {
   "cell_type": "code",
   "execution_count": 12,
   "id": "77143d41",
   "metadata": {},
   "outputs": [],
   "source": [
    "velobins = range(80, 96)\n",
    "spinbins = range(1600, 2501, 25)\n",
    "efficiencybins = range(60, 101, 2)\n",
    "vbbins = range(8, 21)\n",
    "hbbins = range(-15, 15)\n",
    "tiltpointsbinsr = range(0, 150, 15)\n",
    "tiltpointsbinsl = range(570, 736, 15)"
   ]
  },
  {
   "cell_type": "code",
   "execution_count": 13,
   "id": "fd3917dc",
   "metadata": {},
   "outputs": [
    {
     "data": {
      "text/plain": [
       "(array([ 0.,  0.,  0.,  0.,  0.,  0.,  0.,  0.,  1.,  5., 29., 40., 23.,\n",
       "         4.,  0.]),\n",
       " array([80, 81, 82, 83, 84, 85, 86, 87, 88, 89, 90, 91, 92, 93, 94, 95]),\n",
       " <BarContainer object of 15 artists>)"
      ]
     },
     "execution_count": 13,
     "metadata": {},
     "output_type": "execute_result"
    },
    {
     "data": {
      "image/png": "[encoded data removed]",
      "text/plain": [
       "<Figure size 432x288 with 1 Axes>"
      ]
     },
     "metadata": {
      "needs_background": "light"
     },
     "output_type": "display_data"
    }
   ],
   "source": [
    "aavelolst = list(arenalvarezFB[arenalvarezFB.RelSpeed.notnull()].RelSpeed)\n",
    "plt.title(\"Aren Alvarez FB Velo Distribution\")\n",
    "plt.hist(aavelolst, bins = velobins)"
   ]
  },
  {
   "cell_type": "code",
   "execution_count": 14,
   "id": "6269bb91",
   "metadata": {},
   "outputs": [
    {
     "data": {
      "text/plain": [
       "(array([ 0.,  0.,  0.,  0.,  0.,  0.,  0.,  0.,  0.,  0.,  0.,  0.,  0.,\n",
       "         0.,  0.,  0.,  0.,  1.,  1.,  2.,  1.,  1.,  3.,  3.,  3., 14.,\n",
       "        12., 12., 12.,  8., 10.,  4.,  7.,  0.,  1.,  1.]),\n",
       " array([1600, 1625, 1650, 1675, 1700, 1725, 1750, 1775, 1800, 1825, 1850,\n",
       "        1875, 1900, 1925, 1950, 1975, 2000, 2025, 2050, 2075, 2100, 2125,\n",
       "        2150, 2175, 2200, 2225, 2250, 2275, 2300, 2325, 2350, 2375, 2400,\n",
       "        2425, 2450, 2475, 2500]),\n",
       " <BarContainer object of 36 artists>)"
      ]
     },
     "execution_count": 14,
     "metadata": {},
     "output_type": "execute_result"
    },
    {
     "data": {
      "image/png": "[encoded data removed]",
      "text/plain": [
       "<Figure size 432x288 with 1 Axes>"
      ]
     },
     "metadata": {
      "needs_background": "light"
     },
     "output_type": "display_data"
    }
   ],
   "source": [
    "aaspinlst = list(arenalvarezFB[arenalvarezFB.SpinRate.notnull()].SpinRate)\n",
    "plt.title(\"Aren Alvarez FB Spin Rate Distribution\")\n",
    "plt.hist(aaspinlst, bins = spinbins)"
   ]
  },
  {
   "cell_type": "code",
   "execution_count": 15,
   "id": "e219b1bd",
   "metadata": {},
   "outputs": [
    {
     "data": {
      "text/plain": [
       "(array([ 0.,  0.,  0.,  0.,  0.,  0.,  0.,  0.,  0.,  0.,  0.,  0.,  0.,\n",
       "         0.,  0.,  0.,  0.,  2., 13., 80.]),\n",
       " array([ 60,  62,  64,  66,  68,  70,  72,  74,  76,  78,  80,  82,  84,\n",
       "         86,  88,  90,  92,  94,  96,  98, 100]),\n",
       " <BarContainer object of 20 artists>)"
      ]
     },
     "execution_count": 15,
     "metadata": {},
     "output_type": "execute_result"
    },
    {
     "data": {
      "image/png": "[encoded data removed]",
      "text/plain": [
       "<Figure size 432x288 with 1 Axes>"
      ]
     },
     "metadata": {
      "needs_background": "light"
     },
     "output_type": "display_data"
    }
   ],
   "source": [
    "aaefficiencylst = list(arenalvarezFB[arenalvarezFB.yt_Efficiency.notnull()].yt_Efficiency)\n",
    "plt.title(\"Aren Alvarez FB Spin Efficiency Distribution\")\n",
    "plt.hist(aaefficiencylst, bins = efficiencybins)"
   ]
  },
  {
   "cell_type": "code",
   "execution_count": 16,
   "id": "5524e5ac",
   "metadata": {},
   "outputs": [
    {
     "data": {
      "text/plain": [
       "(array([ 0.,  0.,  1.,  0.,  0.,  5., 32., 53.,  3.,  1.,  1.,  0.]),\n",
       " array([ 8,  9, 10, 11, 12, 13, 14, 15, 16, 17, 18, 19, 20]),\n",
       " <BarContainer object of 12 artists>)"
      ]
     },
     "execution_count": 16,
     "metadata": {},
     "output_type": "execute_result"
    },
    {
     "data": {
      "image/png": "[encoded data removed]",
      "text/plain": [
       "<Figure size 432x288 with 1 Axes>"
      ]
     },
     "metadata": {
      "needs_background": "light"
     },
     "output_type": "display_data"
    }
   ],
   "source": [
    "aavblst = list(arenalvarezFB[arenalvarezFB.InducedVertBreak.notnull()].InducedVertBreak)\n",
    "plt.title(\"Aren Alvarez FB Vertical Break Distribution\")\n",
    "plt.hist(aavblst, bins = vbbins)"
   ]
  },
  {
   "cell_type": "code",
   "execution_count": 17,
   "id": "59a09df2",
   "metadata": {},
   "outputs": [
    {
     "data": {
      "text/plain": [
       "(array([ 0.,  0.,  0.,  0.,  0.,  0.,  0.,  0.,  0.,  0.,  1.,  0.,  0.,\n",
       "         1.,  1.,  0.,  0.,  0.,  0.,  0.,  0.,  2.,  7., 46., 33.,  7.,\n",
       "         0.,  0.,  0.]),\n",
       " array([-15, -14, -13, -12, -11, -10,  -9,  -8,  -7,  -6,  -5,  -4,  -3,\n",
       "         -2,  -1,   0,   1,   2,   3,   4,   5,   6,   7,   8,   9,  10,\n",
       "         11,  12,  13,  14]),\n",
       " <BarContainer object of 29 artists>)"
      ]
     },
     "execution_count": 17,
     "metadata": {},
     "output_type": "execute_result"
    },
    {
     "data": {
      "image/png": "[encoded data removed]",
      "text/plain": [
       "<Figure size 432x288 with 1 Axes>"
      ]
     },
     "metadata": {
      "needs_background": "light"
     },
     "output_type": "display_data"
    }
   ],
   "source": [
    "aahblst = list(arenalvarezFB[arenalvarezFB.HorzBreak.notnull()].HorzBreak)\n",
    "plt.title(\"Aren Alvarez FB Horizontal Break Distribution\")\n",
    "plt.hist(aahblst, bins = hbbins)"
   ]
  },
  {
   "cell_type": "code",
   "execution_count": 18,
   "id": "e707a01b",
   "metadata": {},
   "outputs": [
    {
     "data": {
      "text/plain": [
       "(array([ 1.,  0.,  0.,  1., 53., 40.,  1.,  0.,  0.]),\n",
       " array([  0,  15,  30,  45,  60,  75,  90, 105, 120, 135]),\n",
       " <BarContainer object of 9 artists>)"
      ]
     },
     "execution_count": 18,
     "metadata": {},
     "output_type": "execute_result"
    },
    {
     "data": {
      "image/png": "[encoded data removed]",
      "text/plain": [
       "<Figure size 432x288 with 1 Axes>"
      ]
     },
     "metadata": {
      "needs_background": "light"
     },
     "output_type": "display_data"
    }
   ],
   "source": [
    "aatiltlst = list(tiltConv(arenalvarezFB))\n",
    "plt.title(\"Aren Alvarez FB Tilt Distribution\")\n",
    "plt.hist(aatiltlst, bins = tiltpointsbinsr)"
   ]
  },
  {
   "cell_type": "code",
   "execution_count": 19,
   "id": "a74d96b3",
   "metadata": {},
   "outputs": [
    {
     "data": {
      "text/plain": [
       "(array([ 0.,  0.,  1.,  8., 16., 20., 13., 11.,  5.,  1.,  0.,  0.,  0.,\n",
       "         0.,  0.]),\n",
       " array([80, 81, 82, 83, 84, 85, 86, 87, 88, 89, 90, 91, 92, 93, 94, 95]),\n",
       " <BarContainer object of 15 artists>)"
      ]
     },
     "execution_count": 19,
     "metadata": {},
     "output_type": "execute_result"
    },
    {
     "data": {
      "image/png": "[encoded data removed]",
      "text/plain": [
       "<Figure size 432x288 with 1 Axes>"
      ]
     },
     "metadata": {
      "needs_background": "light"
     },
     "output_type": "display_data"
    }
   ],
   "source": [
    "cdvelolst = list(coledaleFB[coledaleFB.RelSpeed.notnull()].RelSpeed)\n",
    "plt.title(\"Cole Dale FB Velo Distribution\")\n",
    "plt.hist(cdvelolst, bins = velobins)"
   ]
  },
  {
   "cell_type": "code",
   "execution_count": 20,
   "id": "f09944ce",
   "metadata": {},
   "outputs": [
    {
     "data": {
      "text/plain": [
       "(array([ 0.,  1.,  0.,  1.,  0.,  2.,  0.,  2.,  0.,  4.,  0.,  7.,  6.,\n",
       "        11.,  5.,  6.,  5.,  5.,  1.,  6.,  2.,  0.,  0.,  0.,  0.,  0.,\n",
       "         1.,  0.,  0.,  0.,  0.,  0.,  0.,  0.,  0.,  0.]),\n",
       " array([1600, 1625, 1650, 1675, 1700, 1725, 1750, 1775, 1800, 1825, 1850,\n",
       "        1875, 1900, 1925, 1950, 1975, 2000, 2025, 2050, 2075, 2100, 2125,\n",
       "        2150, 2175, 2200, 2225, 2250, 2275, 2300, 2325, 2350, 2375, 2400,\n",
       "        2425, 2450, 2475, 2500]),\n",
       " <BarContainer object of 36 artists>)"
      ]
     },
     "execution_count": 20,
     "metadata": {},
     "output_type": "execute_result"
    },
    {
     "data": {
      "image/png": "[encoded data removed]",
      "text/plain": [
       "<Figure size 432x288 with 1 Axes>"
      ]
     },
     "metadata": {
      "needs_background": "light"
     },
     "output_type": "display_data"
    }
   ],
   "source": [
    "cdspinlst = list(coledaleFB[coledaleFB.SpinRate.notnull()].SpinRate)\n",
    "plt.title(\"Cole Dale FB Spin Rate Distribution\")\n",
    "plt.hist(cdspinlst, bins = spinbins)"
   ]
  },
  {
   "cell_type": "code",
   "execution_count": 21,
   "id": "358f74c9",
   "metadata": {},
   "outputs": [
    {
     "data": {
      "text/plain": [
       "(array([ 3.,  2.,  5.,  6.,  4.,  5., 10.,  7.,  5.,  4.,  2.,  4.,  1.,\n",
       "         2.,  0.,  0.,  1.,  1.,  0.,  0.]),\n",
       " array([ 60,  62,  64,  66,  68,  70,  72,  74,  76,  78,  80,  82,  84,\n",
       "         86,  88,  90,  92,  94,  96,  98, 100]),\n",
       " <BarContainer object of 20 artists>)"
      ]
     },
     "execution_count": 21,
     "metadata": {},
     "output_type": "execute_result"
    },
    {
     "data": {
      "image/png": "[encoded data removed]",
      "text/plain": [
       "<Figure size 432x288 with 1 Axes>"
      ]
     },
     "metadata": {
      "needs_background": "light"
     },
     "output_type": "display_data"
    }
   ],
   "source": [
    "cdefficiencylst = list(coledaleFB[coledaleFB.yt_Efficiency.notnull()].yt_Efficiency)\n",
    "plt.title(\"Cole Dale FB Spin Efficiency Distribution\")\n",
    "plt.hist(cdefficiencylst, bins = efficiencybins)"
   ]
  },
  {
   "cell_type": "code",
   "execution_count": 22,
   "id": "ce7ed277",
   "metadata": {},
   "outputs": [
    {
     "data": {
      "text/plain": [
       "(array([ 1., 12., 10., 10., 22.,  7.,  1.,  2.,  0.,  0.,  0.,  0.]),\n",
       " array([ 8,  9, 10, 11, 12, 13, 14, 15, 16, 17, 18, 19, 20]),\n",
       " <BarContainer object of 12 artists>)"
      ]
     },
     "execution_count": 22,
     "metadata": {},
     "output_type": "execute_result"
    },
    {
     "data": {
      "image/png": "[encoded data removed]",
      "text/plain": [
       "<Figure size 432x288 with 1 Axes>"
      ]
     },
     "metadata": {
      "needs_background": "light"
     },
     "output_type": "display_data"
    }
   ],
   "source": [
    "cdvblst = list(coledaleFB[coledaleFB.InducedVertBreak.notnull()].InducedVertBreak)\n",
    "plt.title(\"Cole Dale FB Vertical Break Distribution\")\n",
    "plt.hist(cdvblst, bins = vbbins)"
   ]
  },
  {
   "cell_type": "code",
   "execution_count": 23,
   "id": "ea41d587",
   "metadata": {},
   "outputs": [
    {
     "data": {
      "text/plain": [
       "(array([ 0.,  0.,  0.,  0.,  0.,  0.,  0.,  0.,  0.,  0.,  0.,  0.,  0.,\n",
       "         0.,  0.,  0.,  0.,  0.,  3.,  5., 16., 13., 10., 10.,  8.,  0.,\n",
       "         0.,  0.,  0.]),\n",
       " array([-15, -14, -13, -12, -11, -10,  -9,  -8,  -7,  -6,  -5,  -4,  -3,\n",
       "         -2,  -1,   0,   1,   2,   3,   4,   5,   6,   7,   8,   9,  10,\n",
       "         11,  12,  13,  14]),\n",
       " <BarContainer object of 29 artists>)"
      ]
     },
     "execution_count": 23,
     "metadata": {},
     "output_type": "execute_result"
    },
    {
     "data": {
      "image/png": "[encoded data removed]",
      "text/plain": [
       "<Figure size 432x288 with 1 Axes>"
      ]
     },
     "metadata": {
      "needs_background": "light"
     },
     "output_type": "display_data"
    }
   ],
   "source": [
    "cdhblst = list(coledaleFB[coledaleFB.HorzBreak.notnull()].HorzBreak)\n",
    "plt.title(\"Cole Dale FB Horizontal Break Distribution\")\n",
    "plt.hist(cdhblst, bins = hbbins)"
   ]
  },
  {
   "cell_type": "code",
   "execution_count": 24,
   "id": "c8217967",
   "metadata": {},
   "outputs": [
    {
     "data": {
      "text/plain": [
       "(array([ 0.,  0.,  0.,  5., 17., 18., 14., 11.,  0.]),\n",
       " array([  0,  15,  30,  45,  60,  75,  90, 105, 120, 135]),\n",
       " <BarContainer object of 9 artists>)"
      ]
     },
     "execution_count": 24,
     "metadata": {},
     "output_type": "execute_result"
    },
    {
     "data": {
      "image/png": "[encoded data removed]",
      "text/plain": [
       "<Figure size 432x288 with 1 Axes>"
      ]
     },
     "metadata": {
      "needs_background": "light"
     },
     "output_type": "display_data"
    }
   ],
   "source": [
    "cdtiltlst = list(tiltConv(coledaleFB))\n",
    "plt.title(\"Cole Dale FB Tilt Distribution\")\n",
    "plt.hist(cdtiltlst, bins = tiltpointsbinsr)"
   ]
  },
  {
   "cell_type": "code",
   "execution_count": 25,
   "id": "aa842370",
   "metadata": {},
   "outputs": [
    {
     "data": {
      "text/plain": [
       "(array([ 0.,  2.,  0.,  0.,  1.,  4., 19., 38., 53., 40., 27., 14.,  1.,\n",
       "         0.,  1.]),\n",
       " array([80, 81, 82, 83, 84, 85, 86, 87, 88, 89, 90, 91, 92, 93, 94, 95]),\n",
       " <BarContainer object of 15 artists>)"
      ]
     },
     "execution_count": 25,
     "metadata": {},
     "output_type": "execute_result"
    },
    {
     "data": {
      "image/png": "[encoded data removed]",
      "text/plain": [
       "<Figure size 432x288 with 1 Axes>"
      ]
     },
     "metadata": {
      "needs_background": "light"
     },
     "output_type": "display_data"
    }
   ],
   "source": [
    "zevelolst = list(zackernisseFB[zackernisseFB.RelSpeed.notnull()].RelSpeed)\n",
    "plt.title(\"Zack Ernisse FB Velo Distribution\")\n",
    "plt.hist(zevelolst, bins = velobins)"
   ]
  },
  {
   "cell_type": "code",
   "execution_count": 26,
   "id": "da0da3bf",
   "metadata": {},
   "outputs": [
    {
     "data": {
      "text/plain": [
       "(array([ 2.,  1.,  1.,  1.,  0.,  1.,  4.,  4.,  4., 12., 14., 14., 14.,\n",
       "        18., 21., 17., 26., 12., 10.,  5.,  3.,  3.,  1.,  4.,  1.,  0.,\n",
       "         0.,  0.,  0.,  0.,  0.,  0.,  0.,  0.,  0.,  0.]),\n",
       " array([1600, 1625, 1650, 1675, 1700, 1725, 1750, 1775, 1800, 1825, 1850,\n",
       "        1875, 1900, 1925, 1950, 1975, 2000, 2025, 2050, 2075, 2100, 2125,\n",
       "        2150, 2175, 2200, 2225, 2250, 2275, 2300, 2325, 2350, 2375, 2400,\n",
       "        2425, 2450, 2475, 2500]),\n",
       " <BarContainer object of 36 artists>)"
      ]
     },
     "execution_count": 26,
     "metadata": {},
     "output_type": "execute_result"
    },
    {
     "data": {
      "image/png": "[encoded data removed]",
      "text/plain": [
       "<Figure size 432x288 with 1 Axes>"
      ]
     },
     "metadata": {
      "needs_background": "light"
     },
     "output_type": "display_data"
    }
   ],
   "source": [
    "zespinlst = list(zackernisseFB[zackernisseFB.SpinRate.notnull()].SpinRate)\n",
    "plt.title(\"Zack Ernisse FB Spin Rate Distribution\")\n",
    "plt.hist(zespinlst, bins = spinbins)"
   ]
  },
  {
   "cell_type": "code",
   "execution_count": 27,
   "id": "c6068dbd",
   "metadata": {},
   "outputs": [
    {
     "data": {
      "text/plain": [
       "(array([ 0.,  0.,  0.,  0.,  1.,  0.,  0.,  0.,  0.,  0.,  0.,  0.,  4.,\n",
       "         9., 24., 33., 34., 51., 30.,  8.]),\n",
       " array([ 60,  62,  64,  66,  68,  70,  72,  74,  76,  78,  80,  82,  84,\n",
       "         86,  88,  90,  92,  94,  96,  98, 100]),\n",
       " <BarContainer object of 20 artists>)"
      ]
     },
     "execution_count": 27,
     "metadata": {},
     "output_type": "execute_result"
    },
    {
     "data": {
      "image/png": "[encoded data removed]",
      "text/plain": [
       "<Figure size 432x288 with 1 Axes>"
      ]
     },
     "metadata": {
      "needs_background": "light"
     },
     "output_type": "display_data"
    }
   ],
   "source": [
    "zeefficiencylst = list(zackernisseFB[zackernisseFB.yt_Efficiency.notnull()].yt_Efficiency)\n",
    "plt.title(\"Zack Ernisse FB Spin Efficiency Distribution\")\n",
    "plt.hist(zeefficiencylst, bins = efficiencybins)"
   ]
  },
  {
   "cell_type": "code",
   "execution_count": 28,
   "id": "56698cc1",
   "metadata": {},
   "outputs": [
    {
     "data": {
      "text/plain": [
       "(array([ 0.,  0.,  3.,  1.,  6., 61., 89., 33.,  0.,  0.,  0.,  0.]),\n",
       " array([ 8,  9, 10, 11, 12, 13, 14, 15, 16, 17, 18, 19, 20]),\n",
       " <BarContainer object of 12 artists>)"
      ]
     },
     "execution_count": 28,
     "metadata": {},
     "output_type": "execute_result"
    },
    {
     "data": {
      "image/png": "[encoded data removed]",
      "text/plain": [
       "<Figure size 432x288 with 1 Axes>"
      ]
     },
     "metadata": {
      "needs_background": "light"
     },
     "output_type": "display_data"
    }
   ],
   "source": [
    "zevblst = list(zackernisseFB[zackernisseFB.InducedVertBreak.notnull()].InducedVertBreak)\n",
    "plt.title(\"Zack Ernisse FB Vertical Break Distribution\")\n",
    "plt.hist(zevblst, bins = vbbins)"
   ]
  },
  {
   "cell_type": "code",
   "execution_count": 29,
   "id": "945b153a",
   "metadata": {},
   "outputs": [
    {
     "data": {
      "text/plain": [
       "(array([  0.,   0.,   0.,   1.,   1.,   1.,   7., 100.,  80.,   2.,   0.,\n",
       "          0.,   0.,   0.,   0.,   0.,   0.,   0.,   0.,   0.,   0.,   1.,\n",
       "          0.,   0.,   0.,   0.,   0.,   0.,   0.]),\n",
       " array([-15, -14, -13, -12, -11, -10,  -9,  -8,  -7,  -6,  -5,  -4,  -3,\n",
       "         -2,  -1,   0,   1,   2,   3,   4,   5,   6,   7,   8,   9,  10,\n",
       "         11,  12,  13,  14]),\n",
       " <BarContainer object of 29 artists>)"
      ]
     },
     "execution_count": 29,
     "metadata": {},
     "output_type": "execute_result"
    },
    {
     "data": {
      "image/png": "[encoded data removed]",
      "text/plain": [
       "<Figure size 432x288 with 1 Axes>"
      ]
     },
     "metadata": {
      "needs_background": "light"
     },
     "output_type": "display_data"
    }
   ],
   "source": [
    "zehblst = list(zackernisseFB[zackernisseFB.HorzBreak.notnull()].HorzBreak)\n",
    "plt.title(\"Zack Ernisse FB Horizontal Break Distribution\")\n",
    "plt.hist(zehblst, bins = hbbins)"
   ]
  },
  {
   "cell_type": "code",
   "execution_count": 30,
   "id": "958d7163",
   "metadata": {},
   "outputs": [
    {
     "data": {
      "text/plain": [
       "(array([  0.,   0.,   0.,   1.,   2.,   3., 132.,  54.,   0.,   0.,   0.]),\n",
       " array([570, 585, 600, 615, 630, 645, 660, 675, 690, 705, 720, 735]),\n",
       " <BarContainer object of 11 artists>)"
      ]
     },
     "execution_count": 30,
     "metadata": {},
     "output_type": "execute_result"
    },
    {
     "data": {
      "image/png": "[encoded data removed]",
      "text/plain": [
       "<Figure size 432x288 with 1 Axes>"
      ]
     },
     "metadata": {
      "needs_background": "light"
     },
     "output_type": "display_data"
    }
   ],
   "source": [
    "zetiltlst = list(tiltConv(zackernisseFB))\n",
    "plt.title(\"Zack Ernisse FB Tilt Distribution\")\n",
    "plt.hist(zetiltlst, bins = tiltpointsbinsl)"
   ]
  },
  {
   "cell_type": "code",
   "execution_count": 31,
   "id": "f358b65f",
   "metadata": {},
   "outputs": [
    {
     "data": {
      "text/plain": [
       "(array([ 0.,  0.,  0.,  0.,  0.,  0.,  0.,  1.,  1., 12., 45., 34., 27.,\n",
       "        18.,  2.]),\n",
       " array([80, 81, 82, 83, 84, 85, 86, 87, 88, 89, 90, 91, 92, 93, 94, 95]),\n",
       " <BarContainer object of 15 artists>)"
      ]
     },
     "execution_count": 31,
     "metadata": {},
     "output_type": "execute_result"
    },
    {
     "data": {
      "image/png": "[encoded data removed]",
      "text/plain": [
       "<Figure size 432x288 with 1 Axes>"
      ]
     },
     "metadata": {
      "needs_background": "light"
     },
     "output_type": "display_data"
    }
   ],
   "source": [
    "rfvelolst = list(ryanforcucciFB[ryanforcucciFB.RelSpeed.notnull()].RelSpeed)\n",
    "plt.title(\"Ryan Forcucci FB Velo Distribution\")\n",
    "plt.hist(rfvelolst, bins = velobins)"
   ]
  },
  {
   "cell_type": "code",
   "execution_count": 32,
   "id": "8bf11395",
   "metadata": {},
   "outputs": [
    {
     "data": {
      "text/plain": [
       "(array([ 0.,  0.,  0.,  0.,  0.,  0.,  0.,  1.,  0.,  0.,  0.,  1.,  0.,\n",
       "         0.,  0.,  0.,  0.,  0.,  0.,  2.,  4.,  1.,  5.,  4.,  4.,  9.,\n",
       "        17., 17., 12.,  9.,  4.,  7.,  5.,  5.,  0.,  0.]),\n",
       " array([1600, 1625, 1650, 1675, 1700, 1725, 1750, 1775, 1800, 1825, 1850,\n",
       "        1875, 1900, 1925, 1950, 1975, 2000, 2025, 2050, 2075, 2100, 2125,\n",
       "        2150, 2175, 2200, 2225, 2250, 2275, 2300, 2325, 2350, 2375, 2400,\n",
       "        2425, 2450, 2475, 2500]),\n",
       " <BarContainer object of 36 artists>)"
      ]
     },
     "execution_count": 32,
     "metadata": {},
     "output_type": "execute_result"
    },
    {
     "data": {
      "image/png": "[encoded data removed]",
      "text/plain": [
       "<Figure size 432x288 with 1 Axes>"
      ]
     },
     "metadata": {
      "needs_background": "light"
     },
     "output_type": "display_data"
    }
   ],
   "source": [
    "rfspinlst = list(ryanforcucciFB[ryanforcucciFB.SpinRate.notnull()].SpinRate)\n",
    "plt.title(\"Ryan Forcucci FB Spin Rate Distribution\")\n",
    "plt.hist(rfspinlst, bins = spinbins)"
   ]
  },
  {
   "cell_type": "code",
   "execution_count": 33,
   "id": "b2c6a212",
   "metadata": {},
   "outputs": [
    {
     "data": {
      "text/plain": [
       "(array([ 0.,  1.,  0.,  0.,  0.,  0.,  0.,  0.,  1.,  0.,  0.,  0.,  0.,\n",
       "         0.,  0.,  0.,  1.,  2., 16., 89.]),\n",
       " array([ 60,  62,  64,  66,  68,  70,  72,  74,  76,  78,  80,  82,  84,\n",
       "         86,  88,  90,  92,  94,  96,  98, 100]),\n",
       " <BarContainer object of 20 artists>)"
      ]
     },
     "execution_count": 33,
     "metadata": {},
     "output_type": "execute_result"
    },
    {
     "data": {
      "image/png": "[encoded data removed]",
      "text/plain": [
       "<Figure size 432x288 with 1 Axes>"
      ]
     },
     "metadata": {
      "needs_background": "light"
     },
     "output_type": "display_data"
    }
   ],
   "source": [
    "rfefficiencylst = list(ryanforcucciFB[ryanforcucciFB.yt_Efficiency.notnull()].yt_Efficiency)\n",
    "plt.title(\"Ryan Forcucci FB Spin Efficiency Distribution\")\n",
    "plt.hist(rfefficiencylst, bins = efficiencybins)"
   ]
  },
  {
   "cell_type": "code",
   "execution_count": 34,
   "id": "2534f8fb",
   "metadata": {},
   "outputs": [
    {
     "data": {
      "text/plain": [
       "(array([ 0.,  0.,  2.,  4., 13., 53., 31.,  3.,  0.,  0.,  0.,  0.]),\n",
       " array([ 8,  9, 10, 11, 12, 13, 14, 15, 16, 17, 18, 19, 20]),\n",
       " <BarContainer object of 12 artists>)"
      ]
     },
     "execution_count": 34,
     "metadata": {},
     "output_type": "execute_result"
    },
    {
     "data": {
      "image/png": "[encoded data removed]",
      "text/plain": [
       "<Figure size 432x288 with 1 Axes>"
      ]
     },
     "metadata": {
      "needs_background": "light"
     },
     "output_type": "display_data"
    }
   ],
   "source": [
    "rfvblst = list(ryanforcucciFB[ryanforcucciFB.InducedVertBreak.notnull()].InducedVertBreak)\n",
    "plt.title(\"Ryan Forcucci FB Vertical Break Distribution\")\n",
    "plt.hist(rfvblst, bins = vbbins)"
   ]
  },
  {
   "cell_type": "code",
   "execution_count": 35,
   "id": "67fe3aa7",
   "metadata": {},
   "outputs": [
    {
     "data": {
      "text/plain": [
       "(array([ 0.,  0.,  0.,  0.,  2.,  0.,  0.,  1.,  1.,  0.,  1.,  0.,  0.,\n",
       "         0.,  0.,  0.,  0.,  0.,  0.,  0.,  0.,  0.,  0.,  3., 27., 50.,\n",
       "        23.,  3.,  0.]),\n",
       " array([-15, -14, -13, -12, -11, -10,  -9,  -8,  -7,  -6,  -5,  -4,  -3,\n",
       "         -2,  -1,   0,   1,   2,   3,   4,   5,   6,   7,   8,   9,  10,\n",
       "         11,  12,  13,  14]),\n",
       " <BarContainer object of 29 artists>)"
      ]
     },
     "execution_count": 35,
     "metadata": {},
     "output_type": "execute_result"
    },
    {
     "data": {
      "image/png": "[encoded data removed]",
      "text/plain": [
       "<Figure size 432x288 with 1 Axes>"
      ]
     },
     "metadata": {
      "needs_background": "light"
     },
     "output_type": "display_data"
    }
   ],
   "source": [
    "rfhblst = list(ryanforcucciFB[ryanforcucciFB.HorzBreak.notnull()].HorzBreak)\n",
    "plt.title(\"Ryan Forcucci FB Horizontal Break Distribution\")\n",
    "plt.hist(rfhblst, bins = hbbins)"
   ]
  },
  {
   "cell_type": "code",
   "execution_count": 36,
   "id": "3d369d74",
   "metadata": {},
   "outputs": [
    {
     "data": {
      "text/plain": [
       "(array([ 0.,  0.,  0.,  0.,  1., 48., 52.,  4.,  1.]),\n",
       " array([  0,  15,  30,  45,  60,  75,  90, 105, 120, 135]),\n",
       " <BarContainer object of 9 artists>)"
      ]
     },
     "execution_count": 36,
     "metadata": {},
     "output_type": "execute_result"
    },
    {
     "data": {
      "image/png": "[encoded data removed]",
      "text/plain": [
       "<Figure size 432x288 with 1 Axes>"
      ]
     },
     "metadata": {
      "needs_background": "light"
     },
     "output_type": "display_data"
    }
   ],
   "source": [
    "rftiltlst = list(tiltConv(ryanforcucciFB))\n",
    "plt.title(\"Ryan Forcucci FB Tilt Distribution\")\n",
    "plt.hist(rftiltlst, bins = tiltpointsbinsr)"
   ]
  },
  {
   "cell_type": "code",
   "execution_count": 37,
   "id": "df636805",
   "metadata": {},
   "outputs": [
    {
     "data": {
      "text/plain": [
       "(array([4., 3., 3., 5., 1., 2., 0., 0., 0., 0., 0., 0., 0., 0., 0.]),\n",
       " array([80, 81, 82, 83, 84, 85, 86, 87, 88, 89, 90, 91, 92, 93, 94, 95]),\n",
       " <BarContainer object of 15 artists>)"
      ]
     },
     "execution_count": 37,
     "metadata": {},
     "output_type": "execute_result"
    },
    {
     "data": {
      "image/png": "[encoded data removed]",
      "text/plain": [
       "<Figure size 432x288 with 1 Axes>"
      ]
     },
     "metadata": {
      "needs_background": "light"
     },
     "output_type": "display_data"
    }
   ],
   "source": [
    "cgvelolst = list(chrisgilmartinFB[chrisgilmartinFB.RelSpeed.notnull()].RelSpeed)\n",
    "plt.title(\"Chris Gilmartin FB Velo Distribution\")\n",
    "plt.hist(cgvelolst, bins = velobins)"
   ]
  },
  {
   "cell_type": "code",
   "execution_count": 38,
   "id": "b08c303b",
   "metadata": {},
   "outputs": [
    {
     "data": {
      "text/plain": [
       "(array([0., 0., 0., 0., 0., 0., 0., 0., 0., 0., 0., 3., 0., 2., 2., 3., 3.,\n",
       "        4., 1., 0., 1., 0., 1., 0., 0., 0., 0., 0., 0., 0., 0., 0., 0., 0.,\n",
       "        0., 0.]),\n",
       " array([1600, 1625, 1650, 1675, 1700, 1725, 1750, 1775, 1800, 1825, 1850,\n",
       "        1875, 1900, 1925, 1950, 1975, 2000, 2025, 2050, 2075, 2100, 2125,\n",
       "        2150, 2175, 2200, 2225, 2250, 2275, 2300, 2325, 2350, 2375, 2400,\n",
       "        2425, 2450, 2475, 2500]),\n",
       " <BarContainer object of 36 artists>)"
      ]
     },
     "execution_count": 38,
     "metadata": {},
     "output_type": "execute_result"
    },
    {
     "data": {
      "image/png": "[encoded data removed]",
      "text/plain": [
       "<Figure size 432x288 with 1 Axes>"
      ]
     },
     "metadata": {
      "needs_background": "light"
     },
     "output_type": "display_data"
    }
   ],
   "source": [
    "cgspinlst = list(chrisgilmartinFB[chrisgilmartinFB.SpinRate.notnull()].SpinRate)\n",
    "plt.title(\"Chris Gilmartin FB Spin Rate Distribution\")\n",
    "plt.hist(cgspinlst, bins = spinbins)"
   ]
  },
  {
   "cell_type": "code",
   "execution_count": 39,
   "id": "fb3e1626",
   "metadata": {},
   "outputs": [
    {
     "data": {
      "text/plain": [
       "(array([ 0.,  0.,  0.,  0.,  0.,  0.,  0.,  0.,  0.,  0.,  0.,  0.,  0.,\n",
       "         0.,  0.,  0.,  0.,  0.,  2., 18.]),\n",
       " array([ 60,  62,  64,  66,  68,  70,  72,  74,  76,  78,  80,  82,  84,\n",
       "         86,  88,  90,  92,  94,  96,  98, 100]),\n",
       " <BarContainer object of 20 artists>)"
      ]
     },
     "execution_count": 39,
     "metadata": {},
     "output_type": "execute_result"
    },
    {
     "data": {
      "image/png": "[encoded data removed]",
      "text/plain": [
       "<Figure size 432x288 with 1 Axes>"
      ]
     },
     "metadata": {
      "needs_background": "light"
     },
     "output_type": "display_data"
    }
   ],
   "source": [
    "cgefficiencylst = list(chrisgilmartinFB[chrisgilmartinFB.yt_Efficiency.notnull()].yt_Efficiency)\n",
    "plt.title(\"Chris Gilmartin FB Efficiency Distribution\")\n",
    "plt.hist(cgefficiencylst, bins = efficiencybins)"
   ]
  },
  {
   "cell_type": "code",
   "execution_count": 40,
   "id": "d8732277",
   "metadata": {},
   "outputs": [
    {
     "data": {
      "text/plain": [
       "(array([ 0.,  0.,  0.,  0.,  0.,  0.,  0.,  0., 12.,  8.,  0.,  0.]),\n",
       " array([ 8,  9, 10, 11, 12, 13, 14, 15, 16, 17, 18, 19, 20]),\n",
       " <BarContainer object of 12 artists>)"
      ]
     },
     "execution_count": 40,
     "metadata": {},
     "output_type": "execute_result"
    },
    {
     "data": {
      "image/png": "[encoded data removed]",
      "text/plain": [
       "<Figure size 432x288 with 1 Axes>"
      ]
     },
     "metadata": {
      "needs_background": "light"
     },
     "output_type": "display_data"
    }
   ],
   "source": [
    "cgvblst = list(chrisgilmartinFB[chrisgilmartinFB.InducedVertBreak.notnull()].InducedVertBreak)\n",
    "plt.title(\"Chris Gilmartin FB Vertical Break Distribution\")\n",
    "plt.hist(cgvblst, bins = vbbins)"
   ]
  },
  {
   "cell_type": "code",
   "execution_count": 41,
   "id": "946c3c4b",
   "metadata": {},
   "outputs": [
    {
     "data": {
      "text/plain": [
       "(array([ 0.,  0.,  0.,  0.,  0.,  0.,  0.,  5., 12.,  3.,  0.,  0.,  0.,\n",
       "         0.,  0.,  0.,  0.,  0.,  0.,  0.,  0.,  0.,  0.,  0.,  0.,  0.,\n",
       "         0.,  0.,  0.]),\n",
       " array([-15, -14, -13, -12, -11, -10,  -9,  -8,  -7,  -6,  -5,  -4,  -3,\n",
       "         -2,  -1,   0,   1,   2,   3,   4,   5,   6,   7,   8,   9,  10,\n",
       "         11,  12,  13,  14]),\n",
       " <BarContainer object of 29 artists>)"
      ]
     },
     "execution_count": 41,
     "metadata": {},
     "output_type": "execute_result"
    },
    {
     "data": {
      "image/png": "[encoded data removed]",
      "text/plain": [
       "<Figure size 432x288 with 1 Axes>"
      ]
     },
     "metadata": {
      "needs_background": "light"
     },
     "output_type": "display_data"
    }
   ],
   "source": [
    "cghblst = list(chrisgilmartinFB[chrisgilmartinFB.HorzBreak.notnull()].HorzBreak)\n",
    "plt.title(\"Chris Gilmartin FB Horizontal Break Distribution\")\n",
    "plt.hist(cghblst, bins = hbbins)"
   ]
  },
  {
   "cell_type": "code",
   "execution_count": 42,
   "id": "c4ebd7d5",
   "metadata": {},
   "outputs": [
    {
     "data": {
      "text/plain": [
       "(array([ 0.,  0.,  0.,  0.,  0.,  0.,  4., 16.,  0.,  0.,  0.]),\n",
       " array([570, 585, 600, 615, 630, 645, 660, 675, 690, 705, 720, 735]),\n",
       " <BarContainer object of 11 artists>)"
      ]
     },
     "execution_count": 42,
     "metadata": {},
     "output_type": "execute_result"
    },
    {
     "data": {
      "image/png": "[encoded data removed]",
      "text/plain": [
       "<Figure size 432x288 with 1 Axes>"
      ]
     },
     "metadata": {
      "needs_background": "light"
     },
     "output_type": "display_data"
    }
   ],
   "source": [
    "cgtiltlst = list(tiltConv(chrisgilmartinFB))\n",
    "plt.title(\"Chris Gilmartin FB Tilt Distribution\")\n",
    "plt.hist(cgtiltlst, bins = tiltpointsbinsl)"
   ]
  },
  {
   "cell_type": "code",
   "execution_count": 43,
   "id": "806784c2",
   "metadata": {},
   "outputs": [
    {
     "data": {
      "text/plain": [
       "(array([ 4.,  7., 12., 14., 10.,  2.,  0.,  0.,  0.,  0.,  0.,  0.,  0.,\n",
       "         0.,  0.]),\n",
       " array([80, 81, 82, 83, 84, 85, 86, 87, 88, 89, 90, 91, 92, 93, 94, 95]),\n",
       " <BarContainer object of 15 artists>)"
      ]
     },
     "execution_count": 43,
     "metadata": {},
     "output_type": "execute_result"
    },
    {
     "data": {
      "image/png": "[encoded data removed]",
      "text/plain": [
       "<Figure size 432x288 with 1 Axes>"
      ]
     },
     "metadata": {
      "needs_background": "light"
     },
     "output_type": "display_data"
    }
   ],
   "source": [
    "shvelolst = list(samhasegawaFB[samhasegawaFB.RelSpeed.notnull()].RelSpeed)\n",
    "plt.title(\"Sam Hasegawa FB Velo Distribution\")\n",
    "plt.hist(shvelolst, bins = velobins)"
   ]
  },
  {
   "cell_type": "code",
   "execution_count": 44,
   "id": "f1c795fe",
   "metadata": {},
   "outputs": [
    {
     "data": {
      "text/plain": [
       "(array([0., 0., 0., 1., 3., 5., 4., 3., 8., 9., 6., 2., 2., 5., 2., 0., 0.,\n",
       "        0., 0., 0., 0., 0., 0., 0., 0., 0., 0., 0., 0., 0., 0., 0., 0., 0.,\n",
       "        0., 0.]),\n",
       " array([1600, 1625, 1650, 1675, 1700, 1725, 1750, 1775, 1800, 1825, 1850,\n",
       "        1875, 1900, 1925, 1950, 1975, 2000, 2025, 2050, 2075, 2100, 2125,\n",
       "        2150, 2175, 2200, 2225, 2250, 2275, 2300, 2325, 2350, 2375, 2400,\n",
       "        2425, 2450, 2475, 2500]),\n",
       " <BarContainer object of 36 artists>)"
      ]
     },
     "execution_count": 44,
     "metadata": {},
     "output_type": "execute_result"
    },
    {
     "data": {
      "image/png": "[encoded data removed]",
      "text/plain": [
       "<Figure size 432x288 with 1 Axes>"
      ]
     },
     "metadata": {
      "needs_background": "light"
     },
     "output_type": "display_data"
    }
   ],
   "source": [
    "shspinlst = list(samhasegawaFB[samhasegawaFB.SpinRate.notnull()].SpinRate)\n",
    "plt.title(\"Sam Hasegawa FB Spin Rate Distribution\")\n",
    "plt.hist(shspinlst, bins = spinbins)"
   ]
  },
  {
   "cell_type": "code",
   "execution_count": 45,
   "id": "34fdcb2f",
   "metadata": {},
   "outputs": [
    {
     "data": {
      "text/plain": [
       "(array([ 0.,  0.,  0.,  0.,  0.,  0.,  0.,  0.,  1.,  3.,  2.,  8.,  8.,\n",
       "        14.,  7.,  3.,  3.,  0.,  0.,  0.]),\n",
       " array([ 60,  62,  64,  66,  68,  70,  72,  74,  76,  78,  80,  82,  84,\n",
       "         86,  88,  90,  92,  94,  96,  98, 100]),\n",
       " <BarContainer object of 20 artists>)"
      ]
     },
     "execution_count": 45,
     "metadata": {},
     "output_type": "execute_result"
    },
    {
     "data": {
      "image/png": "[encoded data removed]",
      "text/plain": [
       "<Figure size 432x288 with 1 Axes>"
      ]
     },
     "metadata": {
      "needs_background": "light"
     },
     "output_type": "display_data"
    }
   ],
   "source": [
    "shefficiencylst = list(samhasegawaFB[samhasegawaFB.yt_Efficiency.notnull()].yt_Efficiency)\n",
    "plt.title(\"Sam Hasegawa FB Spin Efficiency Distribution\")\n",
    "plt.hist(shefficiencylst, bins = efficiencybins)"
   ]
  },
  {
   "cell_type": "code",
   "execution_count": 46,
   "id": "bb684eef",
   "metadata": {},
   "outputs": [
    {
     "data": {
      "text/plain": [
       "(array([ 0.,  1.,  0.,  0.,  0.,  0., 15., 29.,  5.,  0.,  0.,  0.]),\n",
       " array([ 8,  9, 10, 11, 12, 13, 14, 15, 16, 17, 18, 19, 20]),\n",
       " <BarContainer object of 12 artists>)"
      ]
     },
     "execution_count": 46,
     "metadata": {},
     "output_type": "execute_result"
    },
    {
     "data": {
      "image/png": "[encoded data removed]",
      "text/plain": [
       "<Figure size 432x288 with 1 Axes>"
      ]
     },
     "metadata": {
      "needs_background": "light"
     },
     "output_type": "display_data"
    }
   ],
   "source": [
    "shvblst = list(samhasegawaFB[samhasegawaFB.InducedVertBreak.notnull()].InducedVertBreak)\n",
    "plt.title(\"Sam Hasegawa FB Vertical Break Distribution\")\n",
    "plt.hist(shvblst, bins = vbbins)"
   ]
  },
  {
   "cell_type": "code",
   "execution_count": 47,
   "id": "0fbd77f4",
   "metadata": {},
   "outputs": [
    {
     "data": {
      "text/plain": [
       "(array([ 0.,  0.,  0.,  0.,  0.,  0.,  0.,  0.,  0.,  0.,  0.,  0., 10.,\n",
       "        20., 15.,  4.,  0.,  0.,  1.,  0.,  0.,  0.,  0.,  0.,  0.,  0.,\n",
       "         0.,  0.,  0.]),\n",
       " array([-15, -14, -13, -12, -11, -10,  -9,  -8,  -7,  -6,  -5,  -4,  -3,\n",
       "         -2,  -1,   0,   1,   2,   3,   4,   5,   6,   7,   8,   9,  10,\n",
       "         11,  12,  13,  14]),\n",
       " <BarContainer object of 29 artists>)"
      ]
     },
     "execution_count": 47,
     "metadata": {},
     "output_type": "execute_result"
    },
    {
     "data": {
      "image/png": "[encoded data removed]",
      "text/plain": [
       "<Figure size 432x288 with 1 Axes>"
      ]
     },
     "metadata": {
      "needs_background": "light"
     },
     "output_type": "display_data"
    }
   ],
   "source": [
    "shhblst = list(samhasegawaFB[samhasegawaFB.HorzBreak.notnull()].HorzBreak)\n",
    "plt.title(\"Sam Hasegawa FB Horizontal Break Distribution\")\n",
    "plt.hist(shhblst, bins = hbbins)"
   ]
  },
  {
   "cell_type": "code",
   "execution_count": 48,
   "id": "821ec49f",
   "metadata": {},
   "outputs": [
    {
     "data": {
      "text/plain": [
       "(array([ 0.,  0.,  0.,  0.,  0.,  0.,  0.,  0.,  7., 37.,  6.]),\n",
       " array([570, 585, 600, 615, 630, 645, 660, 675, 690, 705, 720, 735]),\n",
       " <BarContainer object of 11 artists>)"
      ]
     },
     "execution_count": 48,
     "metadata": {},
     "output_type": "execute_result"
    },
    {
     "data": {
      "image/png": "[encoded data removed]",
      "text/plain": [
       "<Figure size 432x288 with 1 Axes>"
      ]
     },
     "metadata": {
      "needs_background": "light"
     },
     "output_type": "display_data"
    }
   ],
   "source": [
    "shtiltlst = list(tiltConv(samhasegawaFB))\n",
    "plt.title(\"Sam Hasegawa FB Tilt Distribution\")\n",
    "plt.hist(shtiltlst, bins = tiltpointsbinsl)"
   ]
  },
  {
   "cell_type": "code",
   "execution_count": 49,
   "id": "1b06bb2c",
   "metadata": {},
   "outputs": [
    {
     "data": {
      "text/plain": [
       "(array([ 0.,  0.,  0.,  0.,  2., 10., 25., 29.,  7.,  2.,  0.,  0.,  0.,\n",
       "         0.,  0.]),\n",
       " array([80, 81, 82, 83, 84, 85, 86, 87, 88, 89, 90, 91, 92, 93, 94, 95]),\n",
       " <BarContainer object of 15 artists>)"
      ]
     },
     "execution_count": 49,
     "metadata": {},
     "output_type": "execute_result"
    },
    {
     "data": {
      "image/png": "[encoded data removed]",
      "text/plain": [
       "<Figure size 432x288 with 1 Axes>"
      ]
     },
     "metadata": {
      "needs_background": "light"
     },
     "output_type": "display_data"
    }
   ],
   "source": [
    "ehvelolst = list(ethanholtFB[ethanholtFB.RelSpeed.notnull()].RelSpeed)\n",
    "plt.title(\"Ethan Holt FB Velo Distribution\")\n",
    "plt.hist(ehvelolst, bins = velobins)"
   ]
  },
  {
   "cell_type": "code",
   "execution_count": 50,
   "id": "93ebe5b4",
   "metadata": {},
   "outputs": [
    {
     "data": {
      "text/plain": [
       "(array([ 1.,  0.,  0.,  5.,  3.,  5., 14.,  9.,  9.,  6.,  2.,  4.,  1.,\n",
       "         2.,  1.,  0.,  0.,  0.,  0.,  0.,  0.,  0.,  0.,  0.,  0.,  0.,\n",
       "         0.,  0.,  0.,  0.,  0.,  0.,  0.,  0.,  0.,  0.]),\n",
       " array([1600, 1625, 1650, 1675, 1700, 1725, 1750, 1775, 1800, 1825, 1850,\n",
       "        1875, 1900, 1925, 1950, 1975, 2000, 2025, 2050, 2075, 2100, 2125,\n",
       "        2150, 2175, 2200, 2225, 2250, 2275, 2300, 2325, 2350, 2375, 2400,\n",
       "        2425, 2450, 2475, 2500]),\n",
       " <BarContainer object of 36 artists>)"
      ]
     },
     "execution_count": 50,
     "metadata": {},
     "output_type": "execute_result"
    },
    {
     "data": {
      "image/png": "[encoded data removed]",
      "text/plain": [
       "<Figure size 432x288 with 1 Axes>"
      ]
     },
     "metadata": {
      "needs_background": "light"
     },
     "output_type": "display_data"
    }
   ],
   "source": [
    "ehspinlst = list(ethanholtFB[ethanholtFB.SpinRate.notnull()].SpinRate)\n",
    "plt.title(\"Ethan Holt FB Spin rate Distribution\")\n",
    "plt.hist(ehspinlst, bins = spinbins)"
   ]
  },
  {
   "cell_type": "code",
   "execution_count": 51,
   "id": "0698e5a1",
   "metadata": {},
   "outputs": [
    {
     "data": {
      "text/plain": [
       "(array([ 0.,  0.,  0.,  0.,  0.,  0.,  0.,  0.,  0.,  0.,  6., 11., 14.,\n",
       "        12., 11.,  5.,  2.,  2.,  0.,  1.]),\n",
       " array([ 60,  62,  64,  66,  68,  70,  72,  74,  76,  78,  80,  82,  84,\n",
       "         86,  88,  90,  92,  94,  96,  98, 100]),\n",
       " <BarContainer object of 20 artists>)"
      ]
     },
     "execution_count": 51,
     "metadata": {},
     "output_type": "execute_result"
    },
    {
     "data": {
      "image/png": "[encoded data removed]",
      "text/plain": [
       "<Figure size 432x288 with 1 Axes>"
      ]
     },
     "metadata": {
      "needs_background": "light"
     },
     "output_type": "display_data"
    }
   ],
   "source": [
    "ehefficiencylst = list(ethanholtFB[ethanholtFB.yt_Efficiency.notnull()].yt_Efficiency)\n",
    "plt.title(\"Ethan Holt FB Efficiency Distribution\")\n",
    "plt.hist(ehefficiencylst, bins = efficiencybins)"
   ]
  },
  {
   "cell_type": "code",
   "execution_count": 52,
   "id": "abaea32c",
   "metadata": {},
   "outputs": [
    {
     "data": {
      "text/plain": [
       "(array([ 1., 13., 38., 10.,  0.,  0.,  0.,  1.,  0.,  0.,  0.,  0.]),\n",
       " array([ 8,  9, 10, 11, 12, 13, 14, 15, 16, 17, 18, 19, 20]),\n",
       " <BarContainer object of 12 artists>)"
      ]
     },
     "execution_count": 52,
     "metadata": {},
     "output_type": "execute_result"
    },
    {
     "data": {
      "image/png": "[encoded data removed]",
      "text/plain": [
       "<Figure size 432x288 with 1 Axes>"
      ]
     },
     "metadata": {
      "needs_background": "light"
     },
     "output_type": "display_data"
    }
   ],
   "source": [
    "ehvblst = list(ethanholtFB[ethanholtFB.InducedVertBreak.notnull()].InducedVertBreak)\n",
    "plt.title(\"Ethan Holt FB Vertical Break Distribution\")\n",
    "plt.hist(ehvblst, bins = vbbins)"
   ]
  },
  {
   "cell_type": "code",
   "execution_count": 53,
   "id": "8fd37079",
   "metadata": {},
   "outputs": [
    {
     "data": {
      "text/plain": [
       "(array([ 0.,  0.,  0.,  0.,  0.,  0.,  0.,  0.,  0.,  1.,  0.,  0.,  0.,\n",
       "         0.,  0.,  0.,  0.,  0.,  0.,  0.,  0.,  0.,  5., 30., 21.,  6.,\n",
       "         1.,  0.,  0.]),\n",
       " array([-15, -14, -13, -12, -11, -10,  -9,  -8,  -7,  -6,  -5,  -4,  -3,\n",
       "         -2,  -1,   0,   1,   2,   3,   4,   5,   6,   7,   8,   9,  10,\n",
       "         11,  12,  13,  14]),\n",
       " <BarContainer object of 29 artists>)"
      ]
     },
     "execution_count": 53,
     "metadata": {},
     "output_type": "execute_result"
    },
    {
     "data": {
      "image/png": "[encoded data removed]",
      "text/plain": [
       "<Figure size 432x288 with 1 Axes>"
      ]
     },
     "metadata": {
      "needs_background": "light"
     },
     "output_type": "display_data"
    }
   ],
   "source": [
    "ehhblst = list(ethanholtFB[ethanholtFB.HorzBreak.notnull()].HorzBreak)\n",
    "plt.title(\"Ethan Holt FB Horizontal Break Distribution\")\n",
    "plt.hist(ehhblst, bins = hbbins)"
   ]
  },
  {
   "cell_type": "code",
   "execution_count": 54,
   "id": "89929d3e",
   "metadata": {},
   "outputs": [
    {
     "data": {
      "text/plain": [
       "(array([ 0.,  0.,  0.,  0.,  1.,  1., 36., 25.,  0.]),\n",
       " array([  0,  15,  30,  45,  60,  75,  90, 105, 120, 135]),\n",
       " <BarContainer object of 9 artists>)"
      ]
     },
     "execution_count": 54,
     "metadata": {},
     "output_type": "execute_result"
    },
    {
     "data": {
      "image/png": "[encoded data removed]",
      "text/plain": [
       "<Figure size 432x288 with 1 Axes>"
      ]
     },
     "metadata": {
      "needs_background": "light"
     },
     "output_type": "display_data"
    }
   ],
   "source": [
    "ehtiltlst = list(tiltConv(ethanholtFB))\n",
    "plt.title(\"Ethan Holt FB Tilt Distribution\")\n",
    "plt.hist(ehtiltlst, bins = tiltpointsbinsr)"
   ]
  },
  {
   "cell_type": "code",
   "execution_count": 55,
   "id": "c33811f9",
   "metadata": {},
   "outputs": [
    {
     "data": {
      "text/plain": [
       "(array([ 0.,  0.,  0.,  0.,  8., 16., 42., 29., 10.,  2.,  0.,  0.,  0.,\n",
       "         0.,  0.]),\n",
       " array([80, 81, 82, 83, 84, 85, 86, 87, 88, 89, 90, 91, 92, 93, 94, 95]),\n",
       " <BarContainer object of 15 artists>)"
      ]
     },
     "execution_count": 55,
     "metadata": {},
     "output_type": "execute_result"
    },
    {
     "data": {
      "image/png": "[encoded data removed]",
      "text/plain": [
       "<Figure size 432x288 with 1 Axes>"
      ]
     },
     "metadata": {
      "needs_background": "light"
     },
     "output_type": "display_data"
    }
   ],
   "source": [
    "imvelolst = list(izaakmartinezFB[izaakmartinezFB.RelSpeed.notnull()].RelSpeed)\n",
    "plt.title(\"Izaak Martinez FB Velo Distribution\")\n",
    "plt.hist(imvelolst, bins = velobins)"
   ]
  },
  {
   "cell_type": "code",
   "execution_count": 56,
   "id": "23cd5b27",
   "metadata": {},
   "outputs": [
    {
     "data": {
      "text/plain": [
       "(array([ 0.,  0.,  0.,  0.,  0.,  0.,  0.,  0.,  0.,  1.,  0.,  0.,  0.,\n",
       "         0.,  0.,  0.,  0.,  0.,  0.,  0.,  0.,  0.,  0.,  1.,  1.,  6.,\n",
       "        10.,  9., 12., 22.,  9.,  6.,  3.,  4.,  3.,  0.]),\n",
       " array([1600, 1625, 1650, 1675, 1700, 1725, 1750, 1775, 1800, 1825, 1850,\n",
       "        1875, 1900, 1925, 1950, 1975, 2000, 2025, 2050, 2075, 2100, 2125,\n",
       "        2150, 2175, 2200, 2225, 2250, 2275, 2300, 2325, 2350, 2375, 2400,\n",
       "        2425, 2450, 2475, 2500]),\n",
       " <BarContainer object of 36 artists>)"
      ]
     },
     "execution_count": 56,
     "metadata": {},
     "output_type": "execute_result"
    },
    {
     "data": {
      "image/png": "[encoded data removed]",
      "text/plain": [
       "<Figure size 432x288 with 1 Axes>"
      ]
     },
     "metadata": {
      "needs_background": "light"
     },
     "output_type": "display_data"
    }
   ],
   "source": [
    "imspinlst = list(izaakmartinezFB[izaakmartinezFB.SpinRate.notnull()].SpinRate)\n",
    "plt.title(\"Izaak Martinez FB Spin Rate Distribution\")\n",
    "plt.hist(imspinlst, bins = spinbins)"
   ]
  },
  {
   "cell_type": "code",
   "execution_count": 57,
   "id": "0305b2c0",
   "metadata": {},
   "outputs": [
    {
     "data": {
      "text/plain": [
       "(array([ 0.,  0.,  0.,  0.,  0.,  0.,  0.,  0.,  0.,  0.,  1.,  0.,  0.,\n",
       "         0.,  0.,  3.,  7., 20., 46., 11.]),\n",
       " array([ 60,  62,  64,  66,  68,  70,  72,  74,  76,  78,  80,  82,  84,\n",
       "         86,  88,  90,  92,  94,  96,  98, 100]),\n",
       " <BarContainer object of 20 artists>)"
      ]
     },
     "execution_count": 57,
     "metadata": {},
     "output_type": "execute_result"
    },
    {
     "data": {
      "image/png": "[encoded data removed]",
      "text/plain": [
       "<Figure size 432x288 with 1 Axes>"
      ]
     },
     "metadata": {
      "needs_background": "light"
     },
     "output_type": "display_data"
    }
   ],
   "source": [
    "imefficiencylst = list(izaakmartinezFB[izaakmartinezFB.yt_Efficiency.notnull()].yt_Efficiency)\n",
    "plt.title(\"Izaak Martinez FB Spin Efficiency Distribution\")\n",
    "plt.hist(imefficiencylst, bins = efficiencybins)"
   ]
  },
  {
   "cell_type": "code",
   "execution_count": 58,
   "id": "1544994b",
   "metadata": {},
   "outputs": [
    {
     "data": {
      "text/plain": [
       "(array([ 0.,  0.,  1.,  0.,  0.,  0.,  1.,  0.,  2., 33., 44.,  5.]),\n",
       " array([ 8,  9, 10, 11, 12, 13, 14, 15, 16, 17, 18, 19, 20]),\n",
       " <BarContainer object of 12 artists>)"
      ]
     },
     "execution_count": 58,
     "metadata": {},
     "output_type": "execute_result"
    },
    {
     "data": {
      "image/png": "[encoded data removed]",
      "text/plain": [
       "<Figure size 432x288 with 1 Axes>"
      ]
     },
     "metadata": {
      "needs_background": "light"
     },
     "output_type": "display_data"
    }
   ],
   "source": [
    "imvblst = list(izaakmartinezFB[izaakmartinezFB.InducedVertBreak.notnull()].InducedVertBreak)\n",
    "plt.title(\"Izaak Martinez FB Vertical Break Distribution\")\n",
    "plt.hist(imvblst, bins = vbbins)"
   ]
  },
  {
   "cell_type": "code",
   "execution_count": 59,
   "id": "c9931879",
   "metadata": {},
   "outputs": [
    {
     "data": {
      "text/plain": [
       "(array([ 0.,  0.,  0.,  0.,  0.,  0.,  0.,  0.,  0.,  9., 35., 35.,  6.,\n",
       "         0.,  1.,  0.,  0.,  1.,  0.,  0.,  0.,  0.,  0.,  0.,  0.,  0.,\n",
       "         0.,  2.,  0.]),\n",
       " array([-15, -14, -13, -12, -11, -10,  -9,  -8,  -7,  -6,  -5,  -4,  -3,\n",
       "         -2,  -1,   0,   1,   2,   3,   4,   5,   6,   7,   8,   9,  10,\n",
       "         11,  12,  13,  14]),\n",
       " <BarContainer object of 29 artists>)"
      ]
     },
     "execution_count": 59,
     "metadata": {},
     "output_type": "execute_result"
    },
    {
     "data": {
      "image/png": "[encoded data removed]",
      "text/plain": [
       "<Figure size 432x288 with 1 Axes>"
      ]
     },
     "metadata": {
      "needs_background": "light"
     },
     "output_type": "display_data"
    }
   ],
   "source": [
    "imhblst = list(izaakmartinezFB[izaakmartinezFB.HorzBreak.notnull()].HorzBreak)\n",
    "plt.title(\"Izaak Martinez FB Horizontal Break Distribution\")\n",
    "plt.hist(imhblst, bins = hbbins)"
   ]
  },
  {
   "cell_type": "code",
   "execution_count": 60,
   "id": "774b8715",
   "metadata": {},
   "outputs": [
    {
     "data": {
      "text/plain": [
       "(array([ 0.,  0.,  0.,  0.,  0.,  0.,  0.,  6., 71.,  9.,  0.]),\n",
       " array([570, 585, 600, 615, 630, 645, 660, 675, 690, 705, 720, 735]),\n",
       " <BarContainer object of 11 artists>)"
      ]
     },
     "execution_count": 60,
     "metadata": {},
     "output_type": "execute_result"
    },
    {
     "data": {
      "image/png": "[encoded data removed]",
      "text/plain": [
       "<Figure size 432x288 with 1 Axes>"
      ]
     },
     "metadata": {
      "needs_background": "light"
     },
     "output_type": "display_data"
    }
   ],
   "source": [
    "imtiltlst = list(tiltConv(izaakmartinezFB))\n",
    "plt.title(\"Izaak Martinez FB Tilt Distribution\")\n",
    "plt.hist(imtiltlst, bins = tiltpointsbinsl)"
   ]
  },
  {
   "cell_type": "code",
   "execution_count": 61,
   "id": "1098760c",
   "metadata": {},
   "outputs": [
    {
     "data": {
      "text/plain": [
       "(array([ 0.,  0.,  0.,  0.,  0.,  0.,  0.,  4., 12., 14., 10.,  3.,  2.,\n",
       "         0.,  0.]),\n",
       " array([80, 81, 82, 83, 84, 85, 86, 87, 88, 89, 90, 91, 92, 93, 94, 95]),\n",
       " <BarContainer object of 15 artists>)"
      ]
     },
     "execution_count": 61,
     "metadata": {},
     "output_type": "execute_result"
    },
    {
     "data": {
      "image/png": "[encoded data removed]",
      "text/plain": [
       "<Figure size 432x288 with 1 Axes>"
      ]
     },
     "metadata": {
      "needs_background": "light"
     },
     "output_type": "display_data"
    }
   ],
   "source": [
    "nmvelolst = list(nolanmccrackenFB[nolanmccrackenFB.RelSpeed.notnull()].RelSpeed)\n",
    "plt.title(\"Nolan McCracken FB Velo Distribution\")\n",
    "plt.hist(nmvelolst, bins = velobins)"
   ]
  },
  {
   "cell_type": "code",
   "execution_count": 62,
   "id": "592dab2b",
   "metadata": {},
   "outputs": [
    {
     "data": {
      "text/plain": [
       "(array([0., 0., 0., 0., 0., 0., 0., 0., 0., 0., 0., 0., 0., 0., 0., 0., 0.,\n",
       "        0., 0., 0., 1., 0., 1., 6., 8., 6., 6., 5., 5., 1., 0., 0., 0., 0.,\n",
       "        0., 0.]),\n",
       " array([1600, 1625, 1650, 1675, 1700, 1725, 1750, 1775, 1800, 1825, 1850,\n",
       "        1875, 1900, 1925, 1950, 1975, 2000, 2025, 2050, 2075, 2100, 2125,\n",
       "        2150, 2175, 2200, 2225, 2250, 2275, 2300, 2325, 2350, 2375, 2400,\n",
       "        2425, 2450, 2475, 2500]),\n",
       " <BarContainer object of 36 artists>)"
      ]
     },
     "execution_count": 62,
     "metadata": {},
     "output_type": "execute_result"
    },
    {
     "data": {
      "image/png": "[encoded data removed]",
      "text/plain": [
       "<Figure size 432x288 with 1 Axes>"
      ]
     },
     "metadata": {
      "needs_background": "light"
     },
     "output_type": "display_data"
    }
   ],
   "source": [
    "nmspinlst = list(nolanmccrackenFB[nolanmccrackenFB.SpinRate.notnull()].SpinRate)\n",
    "plt.title(\"Nolan McCracken FB Spin Rate Distribution\")\n",
    "plt.hist(nmspinlst, bins = spinbins)"
   ]
  },
  {
   "cell_type": "code",
   "execution_count": 63,
   "id": "0038bc79",
   "metadata": {},
   "outputs": [
    {
     "data": {
      "text/plain": [
       "(array([ 0.,  1.,  0.,  0.,  0.,  0.,  0.,  0.,  0.,  0.,  0.,  0.,  3.,\n",
       "         4.,  7., 15.,  5.,  4.,  1.,  0.]),\n",
       " array([ 60,  62,  64,  66,  68,  70,  72,  74,  76,  78,  80,  82,  84,\n",
       "         86,  88,  90,  92,  94,  96,  98, 100]),\n",
       " <BarContainer object of 20 artists>)"
      ]
     },
     "execution_count": 63,
     "metadata": {},
     "output_type": "execute_result"
    },
    {
     "data": {
      "image/png": "[encoded data removed]",
      "text/plain": [
       "<Figure size 432x288 with 1 Axes>"
      ]
     },
     "metadata": {
      "needs_background": "light"
     },
     "output_type": "display_data"
    }
   ],
   "source": [
    "nmefficiencylst = list(nolanmccrackenFB[nolanmccrackenFB.yt_Efficiency.notnull()].yt_Efficiency)\n",
    "plt.title(\"Nolan McCracken FB Spin Efficiency Distribution\")\n",
    "plt.hist(nmefficiencylst, bins = efficiencybins)"
   ]
  },
  {
   "cell_type": "code",
   "execution_count": 64,
   "id": "30b2267a",
   "metadata": {},
   "outputs": [
    {
     "data": {
      "text/plain": [
       "(array([ 0.,  0.,  0.,  0.,  0.,  0.,  0., 11., 25.,  1.,  1.,  0.]),\n",
       " array([ 8,  9, 10, 11, 12, 13, 14, 15, 16, 17, 18, 19, 20]),\n",
       " <BarContainer object of 12 artists>)"
      ]
     },
     "execution_count": 64,
     "metadata": {},
     "output_type": "execute_result"
    },
    {
     "data": {
      "image/png": "[encoded data removed]",
      "text/plain": [
       "<Figure size 432x288 with 1 Axes>"
      ]
     },
     "metadata": {
      "needs_background": "light"
     },
     "output_type": "display_data"
    }
   ],
   "source": [
    "nmvblst = list(nolanmccrackenFB[nolanmccrackenFB.InducedVertBreak.notnull()].InducedVertBreak)\n",
    "plt.title(\"Nolan McCracken FB Vertical Break Distribution\")\n",
    "plt.hist(nmvblst, bins = vbbins)"
   ]
  },
  {
   "cell_type": "code",
   "execution_count": 65,
   "id": "f9fec9e1",
   "metadata": {},
   "outputs": [
    {
     "data": {
      "text/plain": [
       "(array([ 0.,  0.,  0.,  0.,  0.,  1.,  0.,  0.,  0.,  0.,  0.,  0.,  0.,\n",
       "         0.,  0.,  1.,  5., 15., 15.,  2.,  1.,  0.,  0.,  0.,  0.,  0.,\n",
       "         0.,  0.,  0.]),\n",
       " array([-15, -14, -13, -12, -11, -10,  -9,  -8,  -7,  -6,  -5,  -4,  -3,\n",
       "         -2,  -1,   0,   1,   2,   3,   4,   5,   6,   7,   8,   9,  10,\n",
       "         11,  12,  13,  14]),\n",
       " <BarContainer object of 29 artists>)"
      ]
     },
     "execution_count": 65,
     "metadata": {},
     "output_type": "execute_result"
    },
    {
     "data": {
      "image/png": "[encoded data removed]",
      "text/plain": [
       "<Figure size 432x288 with 1 Axes>"
      ]
     },
     "metadata": {
      "needs_background": "light"
     },
     "output_type": "display_data"
    }
   ],
   "source": [
    "nmhblst = list(nolanmccrackenFB[nolanmccrackenFB.HorzBreak.notnull()].HorzBreak)\n",
    "plt.title(\"Nolan McCracken FB Horizontal Break Distribution\")\n",
    "plt.hist(nmhblst, bins = hbbins)"
   ]
  },
  {
   "cell_type": "code",
   "execution_count": 66,
   "id": "92036dfa",
   "metadata": {},
   "outputs": [
    {
     "data": {
      "text/plain": [
       "(array([ 0.,  9., 27.,  2.,  0.,  0.,  0.,  0.,  0.]),\n",
       " array([  0,  15,  30,  45,  60,  75,  90, 105, 120, 135]),\n",
       " <BarContainer object of 9 artists>)"
      ]
     },
     "execution_count": 66,
     "metadata": {},
     "output_type": "execute_result"
    },
    {
     "data": {
      "image/png": "[encoded data removed]",
      "text/plain": [
       "<Figure size 432x288 with 1 Axes>"
      ]
     },
     "metadata": {
      "needs_background": "light"
     },
     "output_type": "display_data"
    }
   ],
   "source": [
    "nmtiltlst = list(tiltConv(nolanmccrackenFB))\n",
    "plt.title(\"Nolan McCracken FB Tilt Distribution\")\n",
    "plt.hist(nmtiltlst, bins = tiltpointsbinsr)"
   ]
  },
  {
   "cell_type": "code",
   "execution_count": 67,
   "id": "d27da6c5",
   "metadata": {},
   "outputs": [
    {
     "data": {
      "text/plain": [
       "(array([ 0.,  0.,  0.,  0.,  0.,  5.,  5.,  8., 27., 14.,  4.,  0.,  0.,\n",
       "         0.,  0.]),\n",
       " array([80, 81, 82, 83, 84, 85, 86, 87, 88, 89, 90, 91, 92, 93, 94, 95]),\n",
       " <BarContainer object of 15 artists>)"
      ]
     },
     "execution_count": 67,
     "metadata": {},
     "output_type": "execute_result"
    },
    {
     "data": {
      "image/png": "[encoded data removed]",
      "text/plain": [
       "<Figure size 432x288 with 1 Axes>"
      ]
     },
     "metadata": {
      "needs_background": "light"
     },
     "output_type": "display_data"
    }
   ],
   "source": [
    "rrvelolst = list(ryanrissasFB[ryanrissasFB.RelSpeed.notnull()].RelSpeed)\n",
    "plt.title(\"Ryan Rissas FB Velo Distribution\")\n",
    "plt.hist(rrvelolst, bins = velobins)"
   ]
  },
  {
   "cell_type": "code",
   "execution_count": 68,
   "id": "fa673fe0",
   "metadata": {},
   "outputs": [
    {
     "data": {
      "text/plain": [
       "(array([ 0.,  0.,  0.,  0.,  0.,  0.,  0.,  0.,  0.,  0.,  0.,  0.,  0.,\n",
       "         0.,  1.,  2.,  0.,  0.,  0.,  6.,  9.,  5., 13.,  5.,  6.,  5.,\n",
       "         4.,  1.,  0.,  0.,  0.,  0.,  0.,  0.,  0.,  0.]),\n",
       " array([1600, 1625, 1650, 1675, 1700, 1725, 1750, 1775, 1800, 1825, 1850,\n",
       "        1875, 1900, 1925, 1950, 1975, 2000, 2025, 2050, 2075, 2100, 2125,\n",
       "        2150, 2175, 2200, 2225, 2250, 2275, 2300, 2325, 2350, 2375, 2400,\n",
       "        2425, 2450, 2475, 2500]),\n",
       " <BarContainer object of 36 artists>)"
      ]
     },
     "execution_count": 68,
     "metadata": {},
     "output_type": "execute_result"
    },
    {
     "data": {
      "image/png": "[encoded data removed]",
      "text/plain": [
       "<Figure size 432x288 with 1 Axes>"
      ]
     },
     "metadata": {
      "needs_background": "light"
     },
     "output_type": "display_data"
    }
   ],
   "source": [
    "rrspinlst = list(ryanrissasFB[ryanrissasFB.SpinRate.notnull()].SpinRate)\n",
    "plt.title(\"Ryan Rissas FB Spin Rate Distribution\")\n",
    "plt.hist(rrspinlst, bins = spinbins)"
   ]
  },
  {
   "cell_type": "code",
   "execution_count": 69,
   "id": "ef9a82d5",
   "metadata": {},
   "outputs": [
    {
     "data": {
      "text/plain": [
       "(array([ 0.,  0.,  0.,  0.,  0.,  0.,  0.,  0.,  0.,  0.,  0.,  0.,  0.,\n",
       "         0.,  1.,  3.,  4.,  5., 21., 23.]),\n",
       " array([ 60,  62,  64,  66,  68,  70,  72,  74,  76,  78,  80,  82,  84,\n",
       "         86,  88,  90,  92,  94,  96,  98, 100]),\n",
       " <BarContainer object of 20 artists>)"
      ]
     },
     "execution_count": 69,
     "metadata": {},
     "output_type": "execute_result"
    },
    {
     "data": {
      "image/png": "[encoded data removed]",
      "text/plain": [
       "<Figure size 432x288 with 1 Axes>"
      ]
     },
     "metadata": {
      "needs_background": "light"
     },
     "output_type": "display_data"
    }
   ],
   "source": [
    "rrefficiencylst = list(ryanrissasFB[ryanrissasFB.yt_Efficiency.notnull()].yt_Efficiency)\n",
    "plt.title(\"Ryan Rissas FB Spin Efficiency Distribution\")\n",
    "plt.hist(rrefficiencylst, bins = efficiencybins)"
   ]
  },
  {
   "cell_type": "code",
   "execution_count": 70,
   "id": "6a0d9968",
   "metadata": {},
   "outputs": [
    {
     "data": {
      "text/plain": [
       "(array([ 0.,  0.,  0.,  1.,  0.,  0.,  0.,  1.,  7., 35., 12.,  1.]),\n",
       " array([ 8,  9, 10, 11, 12, 13, 14, 15, 16, 17, 18, 19, 20]),\n",
       " <BarContainer object of 12 artists>)"
      ]
     },
     "execution_count": 70,
     "metadata": {},
     "output_type": "execute_result"
    },
    {
     "data": {
      "image/png": "[encoded data removed]",
      "text/plain": [
       "<Figure size 432x288 with 1 Axes>"
      ]
     },
     "metadata": {
      "needs_background": "light"
     },
     "output_type": "display_data"
    }
   ],
   "source": [
    "rrvblst = list(ryanrissasFB[ryanrissasFB.InducedVertBreak.notnull()].InducedVertBreak)\n",
    "plt.title(\"Ryan Rissas FB Vertical Break Distribution\")\n",
    "plt.hist(rrvblst, bins = vbbins)"
   ]
  },
  {
   "cell_type": "code",
   "execution_count": 71,
   "id": "275166ad",
   "metadata": {},
   "outputs": [
    {
     "data": {
      "text/plain": [
       "(array([ 0.,  0.,  0.,  0.,  0.,  0.,  0.,  0.,  0.,  0.,  4., 13., 19.,\n",
       "        14.,  5.,  0.,  1.,  0.,  0.,  0.,  0.,  0.,  0.,  0.,  0.,  1.,\n",
       "         0.,  0.,  0.]),\n",
       " array([-15, -14, -13, -12, -11, -10,  -9,  -8,  -7,  -6,  -5,  -4,  -3,\n",
       "         -2,  -1,   0,   1,   2,   3,   4,   5,   6,   7,   8,   9,  10,\n",
       "         11,  12,  13,  14]),\n",
       " <BarContainer object of 29 artists>)"
      ]
     },
     "execution_count": 71,
     "metadata": {},
     "output_type": "execute_result"
    },
    {
     "data": {
      "image/png": "[encoded data removed]",
      "text/plain": [
       "<Figure size 432x288 with 1 Axes>"
      ]
     },
     "metadata": {
      "needs_background": "light"
     },
     "output_type": "display_data"
    }
   ],
   "source": [
    "rrhblst = list(ryanrissasFB[ryanrissasFB.HorzBreak.notnull()].HorzBreak)\n",
    "plt.title(\"Ryan Rissas FB Horizontal Break Distribution\")\n",
    "plt.hist(rrhblst, bins = hbbins)"
   ]
  },
  {
   "cell_type": "code",
   "execution_count": 72,
   "id": "7ac81be7",
   "metadata": {},
   "outputs": [
    {
     "data": {
      "text/plain": [
       "(array([ 0.,  0.,  0.,  0.,  0.,  0.,  0.,  0., 17., 36.,  3.]),\n",
       " array([570, 585, 600, 615, 630, 645, 660, 675, 690, 705, 720, 735]),\n",
       " <BarContainer object of 11 artists>)"
      ]
     },
     "execution_count": 72,
     "metadata": {},
     "output_type": "execute_result"
    },
    {
     "data": {
      "image/png": "[encoded data removed]",
      "text/plain": [
       "<Figure size 432x288 with 1 Axes>"
      ]
     },
     "metadata": {
      "needs_background": "light"
     },
     "output_type": "display_data"
    }
   ],
   "source": [
    "rrtiltlst = list(tiltConv(ryanrissasFB))\n",
    "plt.title(\"Ryan Rissas FB Tilt Distribution\")\n",
    "plt.hist(rrtiltlst, bins = tiltpointsbinsl)"
   ]
  },
  {
   "cell_type": "code",
   "execution_count": 73,
   "id": "43eb9ec1",
   "metadata": {},
   "outputs": [
    {
     "data": {
      "text/plain": [
       "(array([ 0.,  0.,  1.,  3.,  5., 19., 13.,  9., 13.,  5.,  1.,  3.,  0.,\n",
       "         0.,  0.]),\n",
       " array([80, 81, 82, 83, 84, 85, 86, 87, 88, 89, 90, 91, 92, 93, 94, 95]),\n",
       " <BarContainer object of 15 artists>)"
      ]
     },
     "execution_count": 73,
     "metadata": {},
     "output_type": "execute_result"
    },
    {
     "data": {
      "image/png": "[encoded data removed]",
      "text/plain": [
       "<Figure size 432x288 with 1 Axes>"
      ]
     },
     "metadata": {
      "needs_background": "light"
     },
     "output_type": "display_data"
    }
   ],
   "source": [
    "jsvelolst = list(joeysoberonFB[joeysoberonFB.RelSpeed.notnull()].RelSpeed)\n",
    "plt.title(\"Joey Soberon FB Velo Distribution\")\n",
    "plt.hist(jsvelolst, bins = velobins)"
   ]
  },
  {
   "cell_type": "code",
   "execution_count": 74,
   "id": "58c0e189",
   "metadata": {},
   "outputs": [
    {
     "data": {
      "text/plain": [
       "(array([0., 0., 0., 0., 1., 0., 2., 2., 3., 6., 6., 7., 3., 4., 5., 4., 5.,\n",
       "        5., 4., 3., 0., 0., 1., 0., 0., 0., 0., 0., 0., 0., 0., 0., 0., 0.,\n",
       "        0., 0.]),\n",
       " array([1600, 1625, 1650, 1675, 1700, 1725, 1750, 1775, 1800, 1825, 1850,\n",
       "        1875, 1900, 1925, 1950, 1975, 2000, 2025, 2050, 2075, 2100, 2125,\n",
       "        2150, 2175, 2200, 2225, 2250, 2275, 2300, 2325, 2350, 2375, 2400,\n",
       "        2425, 2450, 2475, 2500]),\n",
       " <BarContainer object of 36 artists>)"
      ]
     },
     "execution_count": 74,
     "metadata": {},
     "output_type": "execute_result"
    },
    {
     "data": {
      "image/png": "[encoded data removed]",
      "text/plain": [
       "<Figure size 432x288 with 1 Axes>"
      ]
     },
     "metadata": {
      "needs_background": "light"
     },
     "output_type": "display_data"
    }
   ],
   "source": [
    "jsspinlst = list(joeysoberonFB[joeysoberonFB.SpinRate.notnull()].SpinRate)\n",
    "plt.title(\"Joey Soberon FB Spin Rate Distribution\")\n",
    "plt.hist(jsspinlst, bins = spinbins)"
   ]
  },
  {
   "cell_type": "code",
   "execution_count": 75,
   "id": "2e3a3ab6",
   "metadata": {},
   "outputs": [
    {
     "data": {
      "text/plain": [
       "(array([ 0.,  1.,  0.,  1.,  0.,  0.,  0.,  0.,  1.,  2.,  2.,  4.,  3.,\n",
       "         4.,  7.,  8.,  9.,  7., 10.,  2.]),\n",
       " array([ 60,  62,  64,  66,  68,  70,  72,  74,  76,  78,  80,  82,  84,\n",
       "         86,  88,  90,  92,  94,  96,  98, 100]),\n",
       " <BarContainer object of 20 artists>)"
      ]
     },
     "execution_count": 75,
     "metadata": {},
     "output_type": "execute_result"
    },
    {
     "data": {
      "image/png": "[encoded data removed]",
      "text/plain": [
       "<Figure size 432x288 with 1 Axes>"
      ]
     },
     "metadata": {
      "needs_background": "light"
     },
     "output_type": "display_data"
    }
   ],
   "source": [
    "jsefficiencylst = list(joeysoberonFB[joeysoberonFB.yt_Efficiency.notnull()].yt_Efficiency)\n",
    "plt.title(\"Joey Soberon FB Spin Efficiency Distribution\")\n",
    "plt.hist(jsefficiencylst, bins = efficiencybins)"
   ]
  },
  {
   "cell_type": "code",
   "execution_count": 76,
   "id": "5b00d095",
   "metadata": {},
   "outputs": [
    {
     "data": {
      "text/plain": [
       "(array([ 4.,  4., 12., 10., 18., 11.,  2.,  0.,  0.,  0.,  0.,  0.]),\n",
       " array([ 8,  9, 10, 11, 12, 13, 14, 15, 16, 17, 18, 19, 20]),\n",
       " <BarContainer object of 12 artists>)"
      ]
     },
     "execution_count": 76,
     "metadata": {},
     "output_type": "execute_result"
    },
    {
     "data": {
      "image/png": "[encoded data removed]",
      "text/plain": [
       "<Figure size 432x288 with 1 Axes>"
      ]
     },
     "metadata": {
      "needs_background": "light"
     },
     "output_type": "display_data"
    }
   ],
   "source": [
    "jsvblst = list(joeysoberonFB[joeysoberonFB.InducedVertBreak.notnull()].InducedVertBreak)\n",
    "plt.title(\"Joey Soberon FB Vertical Break Distribution\")\n",
    "plt.hist(jsvblst, bins = vbbins)"
   ]
  },
  {
   "cell_type": "code",
   "execution_count": 77,
   "id": "767a6690",
   "metadata": {},
   "outputs": [
    {
     "data": {
      "text/plain": [
       "(array([ 0.,  0.,  0.,  0.,  0.,  0.,  0.,  0.,  0.,  0.,  0.,  0.,  0.,\n",
       "         0.,  0.,  0.,  0.,  0.,  0.,  0.,  0.,  2.,  9., 16., 25.,  4.,\n",
       "         3.,  2.,  0.]),\n",
       " array([-15, -14, -13, -12, -11, -10,  -9,  -8,  -7,  -6,  -5,  -4,  -3,\n",
       "         -2,  -1,   0,   1,   2,   3,   4,   5,   6,   7,   8,   9,  10,\n",
       "         11,  12,  13,  14]),\n",
       " <BarContainer object of 29 artists>)"
      ]
     },
     "execution_count": 77,
     "metadata": {},
     "output_type": "execute_result"
    },
    {
     "data": {
      "image/png": "[encoded data removed]",
      "text/plain": [
       "<Figure size 432x288 with 1 Axes>"
      ]
     },
     "metadata": {
      "needs_background": "light"
     },
     "output_type": "display_data"
    }
   ],
   "source": [
    "jshblst = list(joeysoberonFB[joeysoberonFB.HorzBreak.notnull()].HorzBreak)\n",
    "plt.title(\"Joey Soberon FB Horizontal Break Distribution\")\n",
    "plt.hist(jshblst, bins = hbbins)"
   ]
  },
  {
   "cell_type": "code",
   "execution_count": 78,
   "id": "d526b29a",
   "metadata": {},
   "outputs": [
    {
     "data": {
      "text/plain": [
       "(array([ 0.,  0.,  0.,  0.,  1., 20., 25., 10.,  5.]),\n",
       " array([  0,  15,  30,  45,  60,  75,  90, 105, 120, 135]),\n",
       " <BarContainer object of 9 artists>)"
      ]
     },
     "execution_count": 78,
     "metadata": {},
     "output_type": "execute_result"
    },
    {
     "data": {
      "image/png": "[encoded data removed]",
      "text/plain": [
       "<Figure size 432x288 with 1 Axes>"
      ]
     },
     "metadata": {
      "needs_background": "light"
     },
     "output_type": "display_data"
    }
   ],
   "source": [
    "jstiltlst = list(tiltConv(joeysoberonFB))\n",
    "plt.title(\"Joey Soberon FB Tilt Distribution\")\n",
    "plt.hist(jstiltlst, bins = tiltpointsbinsr)"
   ]
  },
  {
   "cell_type": "code",
   "execution_count": null,
   "id": "1e10bbc4",
   "metadata": {},
   "outputs": [],
   "source": []
  },
  {
   "cell_type": "code",
   "execution_count": null,
   "id": "fa00f6f6",
   "metadata": {},
   "outputs": [],
   "source": []
  }
 ],
 "metadata": {
  "kernelspec": {
   "display_name": "Python 3 (ipykernel)",
   "language": "python",
   "name": "python3"
  },
  "language_info": {
   "codemirror_mode": {
    "name": "ipython",
    "version": 3
   },
   "file_extension": ".py",
   "mimetype": "text/x-python",
   "name": "python",
   "nbconvert_exporter": "python",
   "pygments_lexer": "ipython3",
   "version": "3.9.12"
  }
 },
 "nbformat": 4,
 "nbformat_minor": 5
}
